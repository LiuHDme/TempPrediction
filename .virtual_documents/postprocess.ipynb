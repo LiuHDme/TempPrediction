import numpy as np
import pandas as pd


test = pd.read_csv('Data/复赛/test.csv')
sub = pd.read_csv('Data/复赛/提交样例.csv')
temp = pd.read_csv('submissions/final/xgb_submission.csv').temperature


test_idx = sub[sub['time'].isin(test['时间戳'])].temperature.index


n = 10 # 起始数据
for i in test_idx[1:]:
    slope = (temp[i] - temp[n]) / (i - n)
    tmp = temp[n]
    for j in range(n+1, i+1):
        tmp += slope
        sub.loc[j, 'temperature'] = tmp
    n = i



