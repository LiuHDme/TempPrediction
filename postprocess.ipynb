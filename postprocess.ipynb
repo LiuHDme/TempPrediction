{
 "cells": [
  {
   "cell_type": "code",
   "execution_count": 1,
   "metadata": {},
   "outputs": [],
   "source": [
    "import numpy as np\n",
    "import pandas as pd"
   ]
  },
  {
   "cell_type": "code",
   "execution_count": 17,
   "metadata": {},
   "outputs": [],
   "source": [
    "test = pd.read_csv('Data/复赛/test.csv')\n",
    "sub = pd.read_csv('Data/复赛/提交样例.csv')\n",
    "temp = pd.read_csv('submissions/final/xgb_submission.csv').temperature"
   ]
  },
  {
   "cell_type": "code",
   "execution_count": 10,
   "metadata": {},
   "outputs": [],
   "source": [
    "test_idx = sub[sub['time'].isin(test['时间戳'])].temperature.index"
   ]
  },
  {
   "cell_type": "code",
   "execution_count": 30,
   "metadata": {},
   "outputs": [],
   "source": [
    "n = 10 # 起始数据\n",
    "for i in test_idx[1:]:\n",
    "    slope = (temp[i] - temp[n]) / (i - n)\n",
    "    tmp = temp[n]\n",
    "    for j in range(n+1, i+1):\n",
    "        tmp += slope\n",
    "        sub.loc[j, 'temperature'] = tmp\n",
    "    n = i"
   ]
  },
  {
   "cell_type": "code",
   "execution_count": null,
   "metadata": {},
   "outputs": [],
   "source": []
  }
 ],
 "metadata": {
  "kernelspec": {
   "display_name": "Python dc",
   "language": "python",
   "name": "dc"
  },
  "language_info": {
   "codemirror_mode": {
    "name": "ipython",
    "version": 3
   },
   "file_extension": ".py",
   "mimetype": "text/x-python",
   "name": "python",
   "nbconvert_exporter": "python",
   "pygments_lexer": "ipython3",
   "version": "3.7.8"
  }
 },
 "nbformat": 4,
 "nbformat_minor": 4
}
