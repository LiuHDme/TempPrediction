{
 "cells": [
  {
   "cell_type": "code",
   "execution_count": 1,
   "metadata": {},
   "outputs": [],
   "source": [
    "import pandas as pd\n",
    "import numpy as np\n",
    "import seaborn as sns\n",
    "import matplotlib.pyplot as plt\n",
    "import sklearn.preprocessing as preprocessing\n",
    "from sklearn.model_selection import ParameterGrid\n",
    "from sklearn.metrics import mean_squared_error, mean_absolute_error\n",
    "from datetime import date, timedelta\n",
    "from tqdm import tqdm\n",
    "%matplotlib inline\n",
    "sns.set_style('dark')"
   ]
  },
  {
   "cell_type": "code",
   "execution_count": 2,
   "metadata": {},
   "outputs": [],
   "source": [
    "train = pd.read_csv('train.csv')\n",
    "test = pd.read_csv('test.csv')\n",
    "train.columns = ['timestamp', 'year', 'month', 'day', 'hour', 'minute', 'second', 'temp_out', 'hum_out', 'air_out', 'hum_in', 'air_in', 'temp_in']\n",
    "test.columns = ['timestamp', 'year', 'month', 'day', 'hour', 'minute', 'second', 'temp_out', 'hum_out', 'air_out', 'hum_in', 'air_in']\n",
    "train['time'] = pd.to_datetime(train[['year', 'month', 'day', 'hour', 'minute']])\n",
    "test['time'] = pd.to_datetime(test[['year', 'month', 'day', 'hour', 'minute']])"
   ]
  },
  {
   "cell_type": "markdown",
   "metadata": {},
   "source": [
    "前10天：3.14 01:00 ~ 3.24 00:59  \n",
    "中间10天：3.24 1:00 ~ 4.3 00:59  \n",
    "后10天：4.3 00:59 ~ 4.13 00:59"
   ]
  },
  {
   "cell_type": "markdown",
   "metadata": {},
   "source": [
    "# Data Cleaning"
   ]
  },
  {
   "cell_type": "code",
   "execution_count": 3,
   "metadata": {},
   "outputs": [],
   "source": [
    "train = train.loc[train.temp_in.notnull()]"
   ]
  },
  {
   "cell_type": "markdown",
   "metadata": {},
   "source": [
    "## Interpolation"
   ]
  },
  {
   "cell_type": "code",
   "execution_count": null,
   "metadata": {},
   "outputs": [],
   "source": [
    "date = {'year': [], 'month': [], 'day': [], 'hour': [], 'minute': []}\n",
    "for day in range(14, 32):\n",
    "    for hour in range(0, 24):\n",
    "        for minute in range(0, 60):\n",
    "            date['year'].append(2019)\n",
    "            date['month'].append(3)\n",
    "            date['day'].append(day)\n",
    "            date['hour'].append(hour)\n",
    "            date['minute'].append(minute)\n",
    "            \n",
    "for day in range(1, 14):\n",
    "    for hour in range(0, 24):\n",
    "        for minute in range(0, 60):\n",
    "            date['year'].append(2019)\n",
    "            date['month'].append(4)\n",
    "            date['day'].append(day)\n",
    "            date['hour'].append(hour)\n",
    "            date['minute'].append(minute)\n",
    "\n",
    "full_date = pd.DataFrame(date)\n",
    "full_date['time'] = pd.to_datetime(full_date[['year', 'month', 'day', 'hour', 'minute']])\n",
    "full_train = full_date.loc[(full_date.time >= '2019-3-14 01') & (full_date.time < '2019-4-3 01'), :]\n",
    "\n",
    "train = pd.merge(full_train, train, on=['year', 'month', 'day', 'hour', 'minute', 'time'], how='left')\n",
    "train.drop_duplicates(['month', 'day', 'hour', 'minute'], inplace=True)\n",
    "train.reset_index(inplace=True, drop=True)"
   ]
  },
  {
   "cell_type": "markdown",
   "metadata": {},
   "source": [
    "## Fill NaN"
   ]
  },
  {
   "cell_type": "code",
   "execution_count": 4,
   "metadata": {},
   "outputs": [
    {
     "name": "stderr",
     "output_type": "stream",
     "text": [
      "100%|██████████| 6/6 [00:09<00:00,  1.60s/it]\n"
     ]
    }
   ],
   "source": [
    "# train\n",
    "def fill_na(row, col):\n",
    "    if pd.isna(row[col]):\n",
    "        # 先看看前一分钟有没有\n",
    "        time = row.time - pd.Timedelta('1 minute')\n",
    "        pre = train.loc[train.time == time]\n",
    "        if len(pre) != 0 and pd.notna(pre[col].values[0]):\n",
    "            return pre[col].values[0]\n",
    "        else:\n",
    "            # 再看昨天有没有\n",
    "            time = row.time - pd.Timedelta('1 day')\n",
    "            pre = train.loc[train.time == time]\n",
    "            if len(pre) != 0 and pd.notna(pre[col].values[0]):\n",
    "                return pre[col].values[0]\n",
    "            else:\n",
    "                # 再看看前天有没有\n",
    "                time = row.time - pd.Timedelta('2 day')\n",
    "                pre = train.loc[train.time == time]\n",
    "                if len(pre) != 0 and pd.notna(pre[col].values[0]):\n",
    "                    return pre[col].values[0]\n",
    "                else:\n",
    "                    # 否则直接找上一个非空值\n",
    "                    pre = train.loc[(train.time < row.time) & (pd.notna(train[col]))].iloc[-1][col]\n",
    "                    return pre[col].values[0]\n",
    "            \n",
    "    return row[col]\n",
    "\n",
    "train.drop_duplicates(['month', 'day', 'hour', 'minute'], inplace=True)\n",
    "\n",
    "for feat in tqdm(['temp_out', 'hum_out', 'air_out', 'hum_in', 'air_in', 'temp_in']):\n",
    "    train[feat] = train.apply(fill_na, axis=1, args=(feat,))\n",
    "\n",
    "train['target'] = train['temp_in'] - train['temp_out']"
   ]
  },
  {
   "cell_type": "code",
   "execution_count": 5,
   "metadata": {},
   "outputs": [
    {
     "name": "stderr",
     "output_type": "stream",
     "text": [
      "100%|██████████| 5/5 [00:00<00:00, 36.35it/s]\n"
     ]
    }
   ],
   "source": [
    "# test\n",
    "def avg_pre_next(row, col):\n",
    "    if pd.isna(row[col]):\n",
    "        pre_val = test.loc[test.time < row.time].iloc[-1][col]\n",
    "        next_val = test.loc[test.time > row.time].iloc[0][col]\n",
    "        return (pre_val + next_val) / 2\n",
    "    return row[col]\n",
    "\n",
    "for feat in tqdm(['temp_out', 'hum_out', 'air_out', 'hum_in', 'air_in']):\n",
    "    test[feat] = test.apply(avg_pre_next, axis=1, args=(feat,))"
   ]
  },
  {
   "cell_type": "markdown",
   "metadata": {},
   "source": [
    "## Correct Outliers"
   ]
  },
  {
   "cell_type": "markdown",
   "metadata": {},
   "source": [
    "### air"
   ]
  },
  {
   "cell_type": "code",
   "execution_count": null,
   "metadata": {},
   "outputs": [],
   "source": [
    "fig = plt.figure(figsize=(18,10))\n",
    "plt.subplot(2,2,1)\n",
    "sns.boxplot(x=train.air_in)\n",
    "plt.title('train air_in')\n",
    "plt.subplot(2,2,2)\n",
    "sns.boxplot(x=train.air_out)\n",
    "plt.title('train air_out')\n",
    "plt.subplot(2,2,3)\n",
    "sns.boxplot(x=test.air_in)\n",
    "plt.title('test air_in')\n",
    "plt.subplot(2,2,4)\n",
    "sns.boxplot(x=test.air_out)\n",
    "plt.title('test air_out')"
   ]
  },
  {
   "cell_type": "code",
   "execution_count": null,
   "metadata": {},
   "outputs": [],
   "source": [
    "# 用上一分钟和下一分钟的平均值代替异常值\n",
    "def correct_outlier(row, col, low, high, df):\n",
    "    if row[col] < low or row[col] > high:\n",
    "        time = row.time\n",
    "        pre_val = df.loc[(df.time < time) & (df[col] >= low) & (df[col] <= high)]\n",
    "        pre_val = pre_val.iloc[-1][col]\n",
    "        next_val = df.loc[(df.time > time) & (df[col] >= low) & (df[col] <= high)]\n",
    "        next_val = next_val.iloc[0][col]\n",
    "        return (pre_val + next_val) / 2\n",
    "    return row[col]\n",
    "\n",
    "train.air_in = train.apply(correct_outlier, axis=1, args=('air_in', 965, 1000, train))\n",
    "test.air_in = test.apply(correct_outlier, axis=1, args=('air_in', 500, 1000, test))\n",
    "train.air_out = train.apply(correct_outlier, axis=1, args=('air_out', 965, 1000, train))\n",
    "test.air_out = test.apply(correct_outlier, axis=1, args=('air_out', 960, 1000, test))"
   ]
  },
  {
   "cell_type": "code",
   "execution_count": null,
   "metadata": {},
   "outputs": [],
   "source": [
    "fig = plt.figure(figsize=(18, 12))\n",
    "plt.subplot(3, 2, 1)\n",
    "sns.lineplot(data=train.loc[train.time < '2019-3-24 01'].air_in)\n",
    "plt.title('3.14–3.24 air_in')\n",
    "plt.subplot(3, 2, 2)\n",
    "sns.lineplot(data=train.loc[train.time < '2019-3-24 01'].air_out)\n",
    "plt.title('3.14–3.24 air_out')\n",
    "plt.subplot(3, 2, 3)\n",
    "sns.lineplot(data=train.loc[train.time >= '2019-3-24 01'].air_in)\n",
    "plt.title('3.24-4.3 air_in')\n",
    "plt.subplot(3, 2, 4)\n",
    "sns.lineplot(data=train.loc[train.time >= '2019-3-24 01'].air_out)\n",
    "plt.title('3.24–4.3 air_out')\n",
    "plt.subplot(3, 2, 5)\n",
    "sns.lineplot(data=test.air_in)\n",
    "plt.title('4.3-4.13 air_in')\n",
    "plt.subplot(3, 2, 6)\n",
    "sns.lineplot(data=test.air_out)\n",
    "plt.title('4.3–4.13 air_out')"
   ]
  },
  {
   "cell_type": "code",
   "execution_count": null,
   "metadata": {},
   "outputs": [],
   "source": [
    "plt.figure(figsize=(15,5))\n",
    "plt.subplot(1,2,1)\n",
    "sns.kdeplot(data=train.loc[train.time < '2019-3-24 01'].air_in, shade=True, label='3.14–3.24 air_in')\n",
    "sns.kdeplot(data=train.loc[train.time >= '2019-3-24 01'].air_in, shade=True, label='3.24–4.3 air_in')\n",
    "sns.kdeplot(data=test.air_in, shade=True, label='4.3-4.13 air_in')\n",
    "plt.subplot(1,2,2)\n",
    "sns.kdeplot(data=train.loc[train.time < '2019-3-24 01'].air_out, shade=True, label='3.14–3.24 air_out')\n",
    "sns.kdeplot(data=train.loc[train.time >= '2019-3-24 01'].air_out, shade=True, label='3.24–4.3 air_out')\n",
    "sns.kdeplot(data=test.air_out, shade=True, label='4.3–4.13 air_out')"
   ]
  },
  {
   "cell_type": "markdown",
   "metadata": {},
   "source": [
    "### hum"
   ]
  },
  {
   "cell_type": "code",
   "execution_count": null,
   "metadata": {},
   "outputs": [],
   "source": [
    "fig = plt.figure(figsize=(18,10))\n",
    "plt.subplot(2,2,1)\n",
    "sns.boxplot(x=train.hum_in)\n",
    "plt.title('train hum_in')\n",
    "plt.subplot(2,2,2)\n",
    "sns.boxplot(x=train.hum_out)\n",
    "plt.title('train hum_out')\n",
    "plt.subplot(2,2,3)\n",
    "sns.boxplot(x=test.hum_in)\n",
    "plt.title('test hum_in')\n",
    "plt.subplot(2,2,4)\n",
    "sns.boxplot(x=test.hum_out)\n",
    "plt.title('test hum_out')"
   ]
  },
  {
   "cell_type": "code",
   "execution_count": null,
   "metadata": {},
   "outputs": [],
   "source": [
    "fig = plt.figure(figsize=(18, 12))\n",
    "plt.subplot(3, 2, 1)\n",
    "sns.lineplot(data=train.loc[train.time < '2019-3-24 01'].hum_in)\n",
    "plt.title('3.14–3.24 hum_in')\n",
    "plt.subplot(3, 2, 2)\n",
    "sns.lineplot(data=train.loc[train.time < '2019-3-24 01'].hum_out)\n",
    "plt.title('3.14–3.24 hum_out')\n",
    "plt.subplot(3, 2, 3)\n",
    "sns.lineplot(data=train.loc[train.time >= '2019-3-24 01'].hum_in)\n",
    "plt.title('3.24-4.3 hum_in')\n",
    "plt.subplot(3, 2, 4)\n",
    "sns.lineplot(data=train.loc[train.time >= '2019-3-24 01'].hum_out)\n",
    "plt.title('3.24–4.3 hum_out')\n",
    "plt.subplot(3, 2, 5)\n",
    "sns.lineplot(data=test.hum_in)\n",
    "plt.title('4.3-4.13 hum_in')\n",
    "plt.subplot(3, 2, 6)\n",
    "sns.lineplot(data=test.hum_out)\n",
    "plt.title('4.3–4.13 hum_out')"
   ]
  },
  {
   "cell_type": "code",
   "execution_count": null,
   "metadata": {},
   "outputs": [],
   "source": [
    "plt.figure(figsize=(15,5))\n",
    "plt.subplot(1,2,1)\n",
    "sns.kdeplot(data=train.loc[train.time < '2019-3-24 01'].hum_in, shade=True, label='3.14–3.24 hum_in')\n",
    "sns.kdeplot(data=train.loc[train.time >= '2019-3-24 01'].hum_in, shade=True, label='3.24–4.3 hum_in')\n",
    "sns.kdeplot(data=test.hum_in, shade=True, label='4.3-4.13 hum_in')\n",
    "plt.subplot(1,2,2)\n",
    "sns.kdeplot(data=train.loc[train.time < '2019-3-24 01'].hum_out, shade=True, label='3.14–3.24 hum_out')\n",
    "sns.kdeplot(data=train.loc[train.time >= '2019-3-24 01'].hum_out, shade=True, label='3.24–4.3 hum_out')\n",
    "sns.kdeplot(data=test.hum_out, shade=True, label='4.3–4.13 hum_out')"
   ]
  },
  {
   "cell_type": "markdown",
   "metadata": {},
   "source": [
    "### temp"
   ]
  },
  {
   "cell_type": "code",
   "execution_count": null,
   "metadata": {},
   "outputs": [],
   "source": [
    "fig = plt.figure(figsize=(18, 12))\n",
    "plt.subplot(3, 2, 1)\n",
    "sns.lineplot(data=train.loc[train.time < '2019-3-24 01'].temp_in)\n",
    "plt.title('3.14–3.24 temp_in')\n",
    "plt.subplot(3, 2, 2)\n",
    "sns.lineplot(data=train.loc[train.time < '2019-3-24 01'].temp_out)\n",
    "plt.title('3.14–3.24 temp_out')\n",
    "plt.subplot(3, 2, 3)\n",
    "sns.lineplot(data=train.loc[train.time >= '2019-3-24 01'].temp_in)\n",
    "plt.title('3.24-4.3 temp_in')\n",
    "plt.subplot(3, 2, 4)\n",
    "sns.lineplot(data=train.loc[train.time >= '2019-3-24 01'].temp_out)\n",
    "plt.title('3.24–4.3 temp_out')\n",
    "plt.subplot(3, 2, 6)\n",
    "sns.lineplot(data=test.temp_out)\n",
    "plt.title('4.3–4.13 temp_out')"
   ]
  },
  {
   "cell_type": "code",
   "execution_count": null,
   "metadata": {},
   "outputs": [],
   "source": [
    "plt.figure(figsize=(15,5))\n",
    "plt.subplot(1,2,1)\n",
    "sns.kdeplot(data=train.loc[train.time < '2019-3-24 01'].temp_in, shade=True, label='3.14–3.24 temp_in')\n",
    "sns.kdeplot(data=train.loc[train.time >= '2019-3-24 01'].temp_in, shade=True, label='3.24–4.3 temp_in')\n",
    "plt.subplot(1,2,2)\n",
    "sns.kdeplot(data=train.loc[train.time < '2019-3-24 01'].temp_out, shade=True, label='3.14–3.24 temp_out')\n",
    "sns.kdeplot(data=train.loc[train.time >= '2019-3-24 01'].temp_out, shade=True, label='3.24–4.3 temp_out')\n",
    "sns.kdeplot(data=test.temp_out, shade=True, label='4.3–4.13 temp_out')"
   ]
  },
  {
   "cell_type": "markdown",
   "metadata": {},
   "source": [
    "# Feature Engineering"
   ]
  },
  {
   "cell_type": "code",
   "execution_count": null,
   "metadata": {},
   "outputs": [],
   "source": [
    "def convert_minute(minute):\n",
    "    if min(abs(minute - 60), abs(minute - 0)) < abs(minute - 30):\n",
    "        return 0\n",
    "    else:\n",
    "        return 30\n",
    "\n",
    "test['minute_origin'] = test['minute']\n",
    "test['minute'] = test['minute_origin'].map(convert_minute)\n",
    "test['time2'] = pd.to_datetime(test[['year', 'month', 'day', 'hour', 'minute']])"
   ]
  },
  {
   "cell_type": "code",
   "execution_count": 6,
   "metadata": {},
   "outputs": [],
   "source": [
    "matrix = pd.concat([train, test], axis=0, ignore_index=True)"
   ]
  },
  {
   "cell_type": "markdown",
   "metadata": {},
   "source": [
    "## Lag features"
   ]
  },
  {
   "cell_type": "code",
   "execution_count": 7,
   "metadata": {},
   "outputs": [
    {
     "name": "stderr",
     "output_type": "stream",
     "text": [
      "100%|██████████| 5/5 [00:00<00:00, 14.40it/s]\n"
     ]
    }
   ],
   "source": [
    "# 基本聚合特征\n",
    "features = ['temp_out', 'hum_out', 'air_out', 'hum_in', 'air_in']\n",
    "group_feats = []\n",
    "for f in tqdm(features):\n",
    "    matrix['MDH_{}_medi'.format(f)] = matrix.groupby(['month','day','hour'])[f].transform('median')\n",
    "    matrix['MDH_{}_mean'.format(f)] = matrix.groupby(['month','day','hour'])[f].transform('mean')\n",
    "    matrix['MDH_{}_max'.format(f)] = matrix.groupby(['month','day','hour'])[f].transform('max')\n",
    "    matrix['MDH_{}_min'.format(f)] = matrix.groupby(['month','day','hour'])[f].transform('min')\n",
    "    matrix['MDH_{}_std'.format(f)] = matrix.groupby(['month','day','hour'])[f].transform('std')\n",
    "\n",
    "    group_feats.append('MDH_{}_medi'.format(f))\n",
    "    group_feats.append('MDH_{}_mean'.format(f))"
   ]
  },
  {
   "cell_type": "code",
   "execution_count": 8,
   "metadata": {},
   "outputs": [
    {
     "name": "stderr",
     "output_type": "stream",
     "text": [
      "100%|██████████| 15/15 [00:00<00:00, 38.69it/s]\n"
     ]
    }
   ],
   "source": [
    "# 基本交叉特征\n",
    "for f1 in tqdm(features + group_feats):\n",
    "    for f2 in features + group_feats:\n",
    "        if f1 != f2:\n",
    "            colname = '{}_{}_ratio'.format(f1, f2)\n",
    "            matrix[colname] = matrix[f1].values / matrix[f2].values\n",
    "\n",
    "matrix = matrix.fillna(method='bfill')"
   ]
  },
  {
   "cell_type": "code",
   "execution_count": 9,
   "metadata": {},
   "outputs": [
    {
     "name": "stderr",
     "output_type": "stream",
     "text": [
      "100%|██████████| 30/30 [00:01<00:00, 21.25it/s]\n",
      "100%|██████████| 30/30 [00:01<00:00, 23.60it/s]\n",
      "100%|██████████| 30/30 [00:01<00:00, 23.69it/s]\n",
      "100%|██████████| 30/30 [00:01<00:00, 26.26it/s]\n",
      "100%|██████████| 30/30 [00:01<00:00, 27.28it/s]\n",
      "100%|██████████| 30/30 [00:01<00:00, 25.96it/s]\n"
     ]
    }
   ],
   "source": [
    "# 历史信息提取\n",
    "matrix['dt'] = matrix['day'].values + (matrix['month'].values - 3) * 31\n",
    "\n",
    "features = features + ['temp_in']\n",
    "for f in features:\n",
    "    tmp_df = pd.DataFrame()\n",
    "    for t in tqdm(range(15, 45)):\n",
    "        tmp = matrix[matrix['dt'] < t].groupby(['hour'])[f].agg({'mean'}).reset_index()\n",
    "        tmp.columns = ['hour', 'hit_{}_mean'.format(f)]\n",
    "        tmp['dt'] = t\n",
    "        tmp_df = tmp_df.append(tmp)\n",
    "    \n",
    "    matrix = matrix.merge(tmp_df, on=['dt', 'hour'], how='left')\n",
    "    \n",
    "matrix = matrix.fillna(method='bfill')"
   ]
  },
  {
   "cell_type": "markdown",
   "metadata": {},
   "source": [
    "## Shift features"
   ]
  },
  {
   "cell_type": "code",
   "execution_count": null,
   "metadata": {},
   "outputs": [],
   "source": [
    "features = ['temp_out', 'air_out', 'air_in', 'hum_out', 'hum_in']\n",
    "lags = [1, 6, 12, 24]"
   ]
  },
  {
   "cell_type": "code",
   "execution_count": null,
   "metadata": {},
   "outputs": [],
   "source": [
    "for feat in features:\n",
    "    for n in lags:\n",
    "        train['lag_'+str(n)+'_hours_'+feat] = train[feat].shift(n*60)\n",
    "        test['lag_'+str(n)+'_hours_'+feat] = test[feat].shift(n*2)"
   ]
  },
  {
   "cell_type": "code",
   "execution_count": null,
   "metadata": {
    "scrolled": true
   },
   "outputs": [],
   "source": [
    "# 填充test开头NaN\n",
    "\n",
    "def shift_features(row, col, feat, lag):\n",
    "    if pd.isna(row[col]):\n",
    "        cur_time = row.time2\n",
    "        pre_time = cur_time - pd.Timedelta(str(lag)+' hours')\n",
    "        train_val = train.loc[train.time == pre_time]\n",
    "        test_val = test.loc[test.time2 == pre_time]\n",
    "        try:\n",
    "            return train_val[feat].values[0]\n",
    "        except:\n",
    "            return test_val[feat].values[0] if len(test_val) !=0 else np.NaN\n",
    "    return row[col]\n",
    "\n",
    "        \n",
    "for feat in features:\n",
    "    for n in lags:\n",
    "        col = 'lag_'+str(n)+'_hours_'+feat\n",
    "        test[col] = test.apply(shift_features, axis=1, args=(col, feat, n))\n",
    "        \n",
    "test['minute'] = test['minute_origin']\n",
    "test.drop(['minute_origin', 'time2'], axis=1, inplace=True)"
   ]
  },
  {
   "cell_type": "code",
   "execution_count": null,
   "metadata": {},
   "outputs": [],
   "source": [
    "# Trend\n",
    "for feat in features:\n",
    "    for n in lags:\n",
    "        train['trend_'+str(n)+'_hours_'+feat] = train[feat] - train['lag_'+str(n)+'_hours_'+feat]\n",
    "        test['trend_'+str(n)+'_hours_'+feat] = test[feat] - test['lag_'+str(n)+'_hours_'+feat]"
   ]
  },
  {
   "cell_type": "markdown",
   "metadata": {},
   "source": [
    "## Rolling features"
   ]
  },
  {
   "cell_type": "code",
   "execution_count": null,
   "metadata": {},
   "outputs": [],
   "source": [
    "features = ['temp_out', 'air_out', 'air_in', 'hum_out', 'hum_in']\n",
    "matrix.set_index('time', inplace=True)\n",
    "\n",
    "for feat in features:\n",
    "    for n in lags:\n",
    "        matrix['mean_'+str(n)+'_hours_'+feat] = matrix[feat].rolling('6h').mean()\n",
    "        matrix['median_'+str(n)+'_hours_'+feat] = matrix[feat].rolling('6h').median()\n",
    "        matrix['max_'+str(n)+'_hours_'+feat] = matrix[feat].rolling('6h').max()\n",
    "        matrix['min_'+str(n)+'_hours_'+feat] = matrix[feat].rolling('6h').min()\n",
    "        matrix['std_'+str(n)+'_hours_'+feat] = matrix[feat].rolling('6h').std()\n",
    "        matrix['skew_'+str(n)+'_hours_'+feat] = matrix[feat].rolling('6h').skew()\n",
    "        matrix['q1_'+str(n)+'_hours_'+feat] = matrix[feat].rolling('6h').quantile(quantile=0.25)\n",
    "        matrix['q3_'+str(n)+'_hours_'+feat] = matrix[feat].rolling('6h').median(quantile=0.75)\n",
    "        matrix['var_'+str(n)+'_hours_'+feat] = matrix['std_'+str(n)+'_hours_'+feat] / matrix['mean_'+str(n)+'_hours_'+feat]"
   ]
  },
  {
   "cell_type": "markdown",
   "metadata": {},
   "source": [
    "## Bin features"
   ]
  },
  {
   "cell_type": "code",
   "execution_count": 10,
   "metadata": {},
   "outputs": [
    {
     "name": "stderr",
     "output_type": "stream",
     "text": [
      "100%|██████████| 5/5 [00:09<00:00,  1.91s/it]\n",
      "100%|██████████| 5/5 [00:12<00:00,  2.48s/it]\n",
      "100%|██████████| 5/5 [00:15<00:00,  3.04s/it]\n",
      "100%|██████████| 5/5 [00:18<00:00,  3.65s/it]\n"
     ]
    }
   ],
   "source": [
    "features = ['temp_out', 'hum_out', 'air_out', 'hum_in', 'air_in']\n",
    "for f in features:\n",
    "    matrix[f+'_20_bin'] = pd.cut(matrix[f], 20, duplicates='drop').apply(lambda x:x.left).astype(int)\n",
    "    matrix[f+'_50_bin'] = pd.cut(matrix[f], 50, duplicates='drop').apply(lambda x:x.left).astype(int)\n",
    "    matrix[f+'_100_bin'] = pd.cut(matrix[f], 100, duplicates='drop').apply(lambda x:x.left).astype(int)\n",
    "    matrix[f+'_200_bin'] = pd.cut(matrix[f], 200, duplicates='drop').apply(lambda x:x.left).astype(int)\n",
    "    \n",
    "features_20_bin = [f + '_20_bin' for f in features]\n",
    "for f1 in tqdm(features_20_bin):\n",
    "    for f2 in features:\n",
    "        matrix['{}_{}_medi'.format(f1,f2)] = matrix.groupby([f1])[f2].transform('median')\n",
    "        matrix['{}_{}_mean'.format(f1,f2)] = matrix.groupby([f1])[f2].transform('mean')\n",
    "        matrix['{}_{}_max'.format(f1,f2)] = matrix.groupby([f1])[f2].transform('max')\n",
    "        matrix['{}_{}_min'.format(f1,f2)] = matrix.groupby([f1])[f2].transform('min')\n",
    "\n",
    "features_50_bin = [f + '_50_bin' for f in features]\n",
    "for f1 in tqdm(features_50_bin):\n",
    "    for f2 in features:\n",
    "        matrix['{}_{}_medi'.format(f1,f2)] = matrix.groupby([f1])[f2].transform('median')\n",
    "        matrix['{}_{}_mean'.format(f1,f2)] = matrix.groupby([f1])[f2].transform('mean')\n",
    "        matrix['{}_{}_max'.format(f1,f2)] = matrix.groupby([f1])[f2].transform('max')\n",
    "        matrix['{}_{}_min'.format(f1,f2)] = matrix.groupby([f1])[f2].transform('min')\n",
    "\n",
    "features_100_bin = [f + '_100_bin' for f in features]\n",
    "for f1 in tqdm(features_100_bin):\n",
    "    for f2 in features:\n",
    "        matrix['{}_{}_medi'.format(f1,f2)] = matrix.groupby([f1])[f2].transform('median')\n",
    "        matrix['{}_{}_mean'.format(f1,f2)] = matrix.groupby([f1])[f2].transform('mean')\n",
    "        matrix['{}_{}_max'.format(f1,f2)] = matrix.groupby([f1])[f2].transform('max')\n",
    "        matrix['{}_{}_min'.format(f1,f2)] = matrix.groupby([f1])[f2].transform('min')\n",
    "\n",
    "features_200_bin = [f + '_200_bin' for f in features]\n",
    "for f1 in tqdm(features_200_bin):\n",
    "    for f2 in features:\n",
    "        matrix['{}_{}_medi'.format(f1,f2)] = matrix.groupby([f1])[f2].transform('median')\n",
    "        matrix['{}_{}_mean'.format(f1,f2)] = matrix.groupby([f1])[f2].transform('mean')\n",
    "        matrix['{}_{}_max'.format(f1,f2)] = matrix.groupby([f1])[f2].transform('max')\n",
    "        matrix['{}_{}_min'.format(f1,f2)] = matrix.groupby([f1])[f2].transform('min')"
   ]
  },
  {
   "cell_type": "markdown",
   "metadata": {},
   "source": [
    "## Save data"
   ]
  },
  {
   "cell_type": "code",
   "execution_count": 11,
   "metadata": {},
   "outputs": [],
   "source": [
    "matrix.to_pickle('data.pkl')"
   ]
  },
  {
   "cell_type": "markdown",
   "metadata": {},
   "source": [
    "# Modeling"
   ]
  },
  {
   "cell_type": "code",
   "execution_count": 12,
   "metadata": {},
   "outputs": [],
   "source": [
    "data = pd.read_pickle('data.pkl')"
   ]
  },
  {
   "cell_type": "code",
   "execution_count": 21,
   "metadata": {},
   "outputs": [],
   "source": [
    "features_to_drop = ['timestamp', 'year', 'second', 'time', 'target', 'temp_in']\n",
    "\n",
    "num = int(len(train)*0.8)\n",
    "X_train = data.iloc[:num].drop(features_to_drop, axis=1)\n",
    "y_train = data.iloc[:num]['target']\n",
    "X_val = data.iloc[num:len(train)].drop(features_to_drop, axis=1)\n",
    "y_val = data.iloc[num:len(train)]['target']\n",
    "X_test = data.loc[data.time >= '2019-4-3 01'].drop(features_to_drop, axis=1)"
   ]
  },
  {
   "cell_type": "markdown",
   "metadata": {},
   "source": [
    "## XGBoost"
   ]
  },
  {
   "cell_type": "code",
   "execution_count": 14,
   "metadata": {},
   "outputs": [],
   "source": [
    "import xgboost as xgb\n",
    "from xgboost import XGBRegressor\n",
    "from xgboost import plot_importance"
   ]
  },
  {
   "cell_type": "code",
   "execution_count": null,
   "metadata": {
    "scrolled": true
   },
   "outputs": [],
   "source": [
    "# grid search\n",
    "\n",
    "params = {\n",
    "    'eta': [0.05, 0.1, 0.2],\n",
    "    'max_depth': [7,8,9],\n",
    "    'colsample_bytree': [0.6,0.7],\n",
    "    'subsample': [0.6,0.7],\n",
    "    'min_child_weight': [0.5]\n",
    "}\n",
    "\n",
    "best_score, best_param = 100, None\n",
    "\n",
    "for i, p in enumerate(ParameterGrid(params)):\n",
    "    model = XGBRegressor(max_depth=9,\n",
    "                         n_estimators=100,\n",
    "                         min_child_weight=0.5, \n",
    "                         colsample_bytree=0.6, \n",
    "                         subsample=0.6, \n",
    "                         eta=0.1,\n",
    "                         seed=10)\n",
    "    model.set_params(**p)\n",
    "    model.fit(X_train, \n",
    "              y_train, \n",
    "              eval_metric='mae', \n",
    "              eval_set=[(X_train, y_train), (X_val, y_val)], \n",
    "              verbose=False, \n",
    "              early_stopping_rounds=20)\n",
    "    pre_val = model.predict(X_val)\n",
    "    score = mean_absolute_error(y_val, pre_val)\n",
    "    print('round {}: {:.4f}'.format(i+1, score))\n",
    "    print('params: {}'.format(p))\n",
    "    print('\\n')\n",
    "    if score < best_score:\n",
    "        best_score = score\n",
    "        best_param = p\n",
    "\n",
    "print(best_score)\n",
    "print(best_param)"
   ]
  },
  {
   "cell_type": "code",
   "execution_count": 15,
   "metadata": {
    "scrolled": true
   },
   "outputs": [
    {
     "name": "stdout",
     "output_type": "stream",
     "text": [
      "[0]\tvalidation_0-mae:0.64649\tvalidation_1-mae:0.34919\n",
      "Multiple eval metrics have been passed: 'validation_1-mae' will be used for early stopping.\n",
      "\n",
      "Will train until validation_1-mae hasn't improved in 1000 rounds.\n",
      "[500]\tvalidation_0-mae:0.40526\tvalidation_1-mae:0.24752\n",
      "[1000]\tvalidation_0-mae:0.26004\tvalidation_1-mae:0.19836\n",
      "[1500]\tvalidation_0-mae:0.17420\tvalidation_1-mae:0.17689\n",
      "[2000]\tvalidation_0-mae:0.12446\tvalidation_1-mae:0.16761\n",
      "[2500]\tvalidation_0-mae:0.09627\tvalidation_1-mae:0.16345\n",
      "[3000]\tvalidation_0-mae:0.08047\tvalidation_1-mae:0.16183\n",
      "[3500]\tvalidation_0-mae:0.07158\tvalidation_1-mae:0.16109\n",
      "[4000]\tvalidation_0-mae:0.06636\tvalidation_1-mae:0.16048\n",
      "[4500]\tvalidation_0-mae:0.06318\tvalidation_1-mae:0.15999\n",
      "[5000]\tvalidation_0-mae:0.06112\tvalidation_1-mae:0.15958\n",
      "[5500]\tvalidation_0-mae:0.05969\tvalidation_1-mae:0.15934\n",
      "[6000]\tvalidation_0-mae:0.05865\tvalidation_1-mae:0.15909\n",
      "[6500]\tvalidation_0-mae:0.05784\tvalidation_1-mae:0.15892\n",
      "[7000]\tvalidation_0-mae:0.05711\tvalidation_1-mae:0.15880\n",
      "[7500]\tvalidation_0-mae:0.05642\tvalidation_1-mae:0.15867\n",
      "[8000]\tvalidation_0-mae:0.05575\tvalidation_1-mae:0.15865\n",
      "[8500]\tvalidation_0-mae:0.05513\tvalidation_1-mae:0.15863\n",
      "[9000]\tvalidation_0-mae:0.05452\tvalidation_1-mae:0.15865\n",
      "[9500]\tvalidation_0-mae:0.05393\tvalidation_1-mae:0.15862\n",
      "[10000]\tvalidation_0-mae:0.05333\tvalidation_1-mae:0.15864\n",
      "Stopping. Best iteration:\n",
      "[9408]\tvalidation_0-mae:0.05403\tvalidation_1-mae:0.15861\n",
      "\n"
     ]
    },
    {
     "data": {
      "text/plain": [
       "XGBRegressor(base_score=0.5, booster='gbtree', colsample_bylevel=1,\n",
       "             colsample_bynode=1, colsample_bytree=0.5, eta=0.001, gamma=0,\n",
       "             gpu_id=-1, importance_type='gain', interaction_constraints='',\n",
       "             learning_rate=0.00100000005, max_delta_step=0, max_depth=8,\n",
       "             min_child_weight=5, missing=nan, monotone_constraints='()',\n",
       "             n_estimators=50000, n_jobs=0, num_parallel_tree=1,\n",
       "             random_state=2020, reg_alpha=0, reg_lambda=1, scale_pos_weight=1,\n",
       "             seed=2020, subsample=0.5, tree_method='exact',\n",
       "             validate_parameters=1, verbosity=None)"
      ]
     },
     "execution_count": 15,
     "metadata": {},
     "output_type": "execute_result"
    }
   ],
   "source": [
    "%%time\n",
    "\n",
    "model = XGBRegressor(max_depth=8,\n",
    "                     n_estimators=50000,\n",
    "                     min_child_weight=5, \n",
    "                     colsample_bytree=0.5, \n",
    "                     subsample=0.5, \n",
    "                     eta=0.001,\n",
    "                     seed=2020)\n",
    "model.fit(X_train, \n",
    "          y_train, \n",
    "          eval_metric='mae', \n",
    "          eval_set=[(X_train, y_train), (X_val, y_val)], \n",
    "          verbose=500, \n",
    "          early_stopping_rounds=1000)"
   ]
  },
  {
   "cell_type": "code",
   "execution_count": 22,
   "metadata": {},
   "outputs": [],
   "source": [
    "test_pred = model.predict(X_test, ntree_limit=model.best_ntree_limit)\n",
    "submission = pd.DataFrame({'time': test.timestamp, \n",
    "                           'temperature': test.temp_out+test_pred})\n",
    "submission.to_csv('xgb_submission.csv', index=False)"
   ]
  }
 ],
 "metadata": {
  "kernelspec": {
   "display_name": "Python 3",
   "language": "python",
   "name": "python3"
  },
  "language_info": {
   "codemirror_mode": {
    "name": "ipython",
    "version": 3
   },
   "file_extension": ".py",
   "mimetype": "text/x-python",
   "name": "python",
   "nbconvert_exporter": "python",
   "pygments_lexer": "ipython3",
   "version": "3.7.6"
  },
  "toc-autonumbering": true,
  "toc-showcode": false,
  "toc-showmarkdowntxt": false
 },
 "nbformat": 4,
 "nbformat_minor": 4
}
