{
 "cells": [
  {
   "cell_type": "code",
   "execution_count": 1,
   "metadata": {},
   "outputs": [],
   "source": [
    "import pandas as pd"
   ]
  },
  {
   "cell_type": "code",
   "execution_count": 2,
   "metadata": {},
   "outputs": [],
   "source": [
    "train = pd.read_csv('Data/train.csv')\n",
    "test = pd.read_csv('Data/test.csv')"
   ]
  },
  {
   "cell_type": "code",
   "execution_count": 3,
   "metadata": {},
   "outputs": [],
   "source": [
    "# 这几个数据可以考虑删掉\n",
    "index_to_drop = train.loc[(train.month==3) & (train.day==29) & ((train.hour==10) | (train.hour==11))].index\n",
    "train.drop(index_to_drop, inplace=True)"
   ]
  },
  {
   "cell_type": "code",
   "execution_count": 4,
   "metadata": {},
   "outputs": [],
   "source": [
    "cols_date = ['month', 'day', 'hour', 'minute']\n",
    "features = ['temp_out', 'hum_out', 'air_out', 'hum_in', 'air_in']\n",
    "\n",
    "# 用最近的一次观测填充\n",
    "def foo(row, col):\n",
    "    if row[col] == 0:\n",
    "        try:\n",
    "            # 之前最近一次观测（同小时）\n",
    "            tmp = train.loc[(train.month==row.month) & (train.day==row.day) & (train.hour==row.hour) & (train.minute < row.minute) & (train[col] > 0)]\n",
    "            return tmp.iloc[-1][col]\n",
    "        except:\n",
    "            try:\n",
    "                # 之后最近一次观测（同小时）\n",
    "                tmp = train.loc[(train.month==row.month) & (train.day==row.day) & (train.hour==row.hour) & (train.minute > row.minute) & (train[col] > 0)]\n",
    "                return tmp.iloc[0][col]\n",
    "            except:\n",
    "                # 之后最近一次观测（之后的小时）\n",
    "                tmp = train.loc[(train.month==row.month) & (train.day==row.day) & (train.hour>row.hour) & (train[col] > 0)]\n",
    "                return tmp.iloc[0][col]\n",
    "    return row[col]\n",
    "\n",
    "def bar(col):\n",
    "    # 删掉一分钟内统计了多次的重复值\n",
    "    tmp = train[cols_date+[col]].loc[train[col].notna(), :]\n",
    "    index_to_drop = tmp.loc[tmp.duplicated(cols_date)].index\n",
    "    train.drop(index_to_drop, inplace=True)\n",
    "\n",
    "    # fill na，用存在的观测值填充\n",
    "    train[col].fillna(0, inplace=True)\n",
    "    mapping = train[cols_date+[col]].groupby(cols_date)[col].transform('sum')\n",
    "    train[col] = mapping\n",
    "    \n",
    "    # 对于缺失值，用最近的一次观测填充\n",
    "    train[col] = train.apply(foo, axis=1, args=(col,))"
   ]
  },
  {
   "cell_type": "code",
   "execution_count": 5,
   "metadata": {},
   "outputs": [
    {
     "name": "stdout",
     "output_type": "stream",
     "text": [
      "temp_out\n",
      "hum_out\n",
      "air_out\n",
      "hum_in\n",
      "air_in\n",
      "target\n",
      "CPU times: user 7.96 s, sys: 59 ms, total: 8.02 s\n",
      "Wall time: 8.16 s\n"
     ]
    }
   ],
   "source": [
    "%%time\n",
    "for feat in features+['target']:\n",
    "    print(feat)\n",
    "    bar(feat)"
   ]
  },
  {
   "cell_type": "code",
   "execution_count": 6,
   "metadata": {},
   "outputs": [],
   "source": [
    "train.drop_duplicates(cols_date+['temp_out', 'hum_out', 'air_out', 'hum_in', 'air_in', 'target'], inplace=True)\n",
    "train = train.sort_values('time').reset_index(drop=True)"
   ]
  },
  {
   "cell_type": "code",
   "execution_count": 7,
   "metadata": {},
   "outputs": [
    {
     "name": "stdout",
     "output_type": "stream",
     "text": [
      "<class 'pandas.core.frame.DataFrame'>\n",
      "RangeIndex: 24526 entries, 0 to 24525\n",
      "Data columns (total 13 columns):\n",
      " #   Column    Non-Null Count  Dtype  \n",
      "---  ------    --------------  -----  \n",
      " 0   time      24526 non-null  int64  \n",
      " 1   year      24526 non-null  int64  \n",
      " 2   month     24526 non-null  int64  \n",
      " 3   day       24526 non-null  int64  \n",
      " 4   hour      24526 non-null  int64  \n",
      " 5   minute    24526 non-null  int64  \n",
      " 6   second    24526 non-null  int64  \n",
      " 7   temp_out  24526 non-null  float64\n",
      " 8   hum_out   24526 non-null  float64\n",
      " 9   air_out   24526 non-null  float64\n",
      " 10  hum_in    24526 non-null  float64\n",
      " 11  air_in    24526 non-null  float64\n",
      " 12  target    24526 non-null  float64\n",
      "dtypes: float64(6), int64(7)\n",
      "memory usage: 2.4 MB\n"
     ]
    }
   ],
   "source": [
    "train.info()"
   ]
  },
  {
   "cell_type": "code",
   "execution_count": null,
   "metadata": {},
   "outputs": [],
   "source": []
  },
  {
   "cell_type": "code",
   "execution_count": null,
   "metadata": {},
   "outputs": [],
   "source": []
  },
  {
   "cell_type": "code",
   "execution_count": null,
   "metadata": {},
   "outputs": [],
   "source": []
  },
  {
   "cell_type": "code",
   "execution_count": null,
   "metadata": {},
   "outputs": [],
   "source": [
    "train.temp_out.hist(bins=50)"
   ]
  },
  {
   "cell_type": "code",
   "execution_count": null,
   "metadata": {},
   "outputs": [],
   "source": [
    "train.hum_out.hist(bins=50)"
   ]
  },
  {
   "cell_type": "code",
   "execution_count": null,
   "metadata": {},
   "outputs": [],
   "source": [
    "train.air_out.hist(bins=50)"
   ]
  },
  {
   "cell_type": "code",
   "execution_count": null,
   "metadata": {},
   "outputs": [],
   "source": [
    "train.hum_in.hist(bins=50)"
   ]
  },
  {
   "cell_type": "code",
   "execution_count": null,
   "metadata": {},
   "outputs": [],
   "source": [
    "train.air_in.hist(bins=50)"
   ]
  },
  {
   "cell_type": "code",
   "execution_count": null,
   "metadata": {},
   "outputs": [],
   "source": [
    "test.info()"
   ]
  },
  {
   "cell_type": "code",
   "execution_count": null,
   "metadata": {},
   "outputs": [],
   "source": [
    "train.temp_out.hist(bins=50)"
   ]
  },
  {
   "cell_type": "code",
   "execution_count": null,
   "metadata": {},
   "outputs": [],
   "source": [
    "test.temp_out.hist(bins=50)"
   ]
  },
  {
   "cell_type": "code",
   "execution_count": null,
   "metadata": {},
   "outputs": [],
   "source": [
    "train.hum_out.hist(bins=50)\n",
    "test.hum_out.hist(bins=50)"
   ]
  },
  {
   "cell_type": "code",
   "execution_count": null,
   "metadata": {},
   "outputs": [],
   "source": [
    "train.air_out.hist(bins=50)"
   ]
  },
  {
   "cell_type": "code",
   "execution_count": null,
   "metadata": {},
   "outputs": [],
   "source": [
    "test.air_out.hist(bins=50)"
   ]
  },
  {
   "cell_type": "code",
   "execution_count": null,
   "metadata": {},
   "outputs": [],
   "source": [
    "train.hum_in.hist(bins=50)"
   ]
  },
  {
   "cell_type": "code",
   "execution_count": null,
   "metadata": {},
   "outputs": [],
   "source": [
    "test.hum_in.hist(bins=50)"
   ]
  },
  {
   "cell_type": "code",
   "execution_count": null,
   "metadata": {},
   "outputs": [],
   "source": [
    "train.air_in.hist(bins=50)"
   ]
  },
  {
   "cell_type": "code",
   "execution_count": null,
   "metadata": {},
   "outputs": [],
   "source": [
    "test.air_in.hist(bins=50)"
   ]
  },
  {
   "cell_type": "code",
   "execution_count": null,
   "metadata": {},
   "outputs": [],
   "source": []
  }
 ],
 "metadata": {
  "kernelspec": {
   "display_name": "Python 3",
   "language": "python",
   "name": "python3"
  },
  "language_info": {
   "codemirror_mode": {
    "name": "ipython",
    "version": 3
   },
   "file_extension": ".py",
   "mimetype": "text/x-python",
   "name": "python",
   "nbconvert_exporter": "python",
   "pygments_lexer": "ipython3",
   "version": "3.7.6"
  }
 },
 "nbformat": 4,
 "nbformat_minor": 4
}
