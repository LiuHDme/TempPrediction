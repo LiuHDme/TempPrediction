{
 "cells": [
  {
   "cell_type": "code",
   "execution_count": 1,
   "metadata": {},
   "outputs": [],
   "source": [
    "import pandas as pd\n",
    "import numpy as np\n",
    "import seaborn as sns\n",
    "import matplotlib.pyplot as plt\n",
    "import sklearn.preprocessing as preprocessing\n",
    "from sklearn.model_selection import ParameterGrid\n",
    "from sklearn.metrics import mean_squared_error\n",
    "from datetime import date, timedelta\n",
    "%matplotlib inline\n",
    "sns.set_style('dark')"
   ]
  },
  {
   "cell_type": "code",
   "execution_count": 2,
   "metadata": {},
   "outputs": [],
   "source": [
    "train = pd.read_csv('Data/train.csv')\n",
    "test = pd.read_csv('Data/test.csv')\n",
    "train.time = pd.to_datetime(train.time)\n",
    "test.time = pd.to_datetime(test.time)"
   ]
  },
  {
   "cell_type": "markdown",
   "metadata": {},
   "source": [
    "前10天：3.14 01:00 ~ 3.24 00:59  \n",
    "中间10天：3.24 1:00 ~ 4.3 00:59  \n",
    "后10天：4.3 00:59 ~ 4.13 00:59"
   ]
  },
  {
   "cell_type": "markdown",
   "metadata": {},
   "source": [
    "# Data Cleaning"
   ]
  },
  {
   "cell_type": "markdown",
   "metadata": {},
   "source": [
    "## Interpolation"
   ]
  },
  {
   "cell_type": "code",
   "execution_count": 3,
   "metadata": {},
   "outputs": [],
   "source": [
    "date = {'year': [], 'month': [], 'day': [], 'hour': [], 'minute': []}\n",
    "for day in range(14, 32):\n",
    "    for hour in range(0, 24):\n",
    "        for minute in range(0, 60):\n",
    "            date['year'].append(2019)\n",
    "            date['month'].append(3)\n",
    "            date['day'].append(day)\n",
    "            date['hour'].append(hour)\n",
    "            date['minute'].append(minute)\n",
    "            \n",
    "for day in range(1, 14):\n",
    "    for hour in range(0, 24):\n",
    "        for minute in range(0, 60):\n",
    "            date['year'].append(2019)\n",
    "            date['month'].append(4)\n",
    "            date['day'].append(day)\n",
    "            date['hour'].append(hour)\n",
    "            date['minute'].append(minute)\n",
    "\n",
    "full_date = pd.DataFrame(date)\n",
    "full_date['time'] = pd.to_datetime(full_date[['year', 'month', 'day', 'hour', 'minute']])\n",
    "full_train = full_date.loc[(full_date.time >= '2019-3-14 01') & (full_date.time < '2019-4-3 01'), :]\n",
    "\n",
    "train = pd.merge(full_train, train, on=['year', 'month', 'day', 'hour', 'minute', 'time'], how='left')\n",
    "train.drop_duplicates(['month', 'day', 'hour', 'minute'], inplace=True)\n",
    "train.reset_index(inplace=True, drop=True)"
   ]
  },
  {
   "cell_type": "markdown",
   "metadata": {},
   "source": [
    "## Fill NaN"
   ]
  },
  {
   "cell_type": "code",
   "execution_count": 4,
   "metadata": {},
   "outputs": [],
   "source": [
    "cols_date = ['month', 'day', 'hour', 'minute']\n",
    "features = ['temp_out', 'hum_out', 'air_out', 'hum_in', 'air_in', 'temp_in']\n",
    "\n",
    "# 用最近的一次观测填充\n",
    "def fill_with_latest(row, col, df):\n",
    "    if pd.isna(row[col]):\n",
    "        # 先看看前一分钟有没有\n",
    "        time = row.time - pd.Timedelta('1 minute')\n",
    "        pre = df.loc[df.time==time].iloc[-1][col]\n",
    "        if not pd.isna(pre):\n",
    "            return pre\n",
    "        else:\n",
    "            # 再看昨天有没有\n",
    "            time = row.time - pd.Timedelta('1 day')\n",
    "            pre = df.loc[df.time==time].iloc[-1][col]\n",
    "            if not pd.isna(pre):\n",
    "                return pre\n",
    "            else:\n",
    "                # 再看看前天有没有\n",
    "                time = row.time - pd.Timedelta('2 day')\n",
    "                pre = df.loc[df.time==time].iloc[-1][col]\n",
    "                if not pd.isna(pre):\n",
    "                    return pre\n",
    "                else:\n",
    "                    # 否则直接找上一个非空值\n",
    "                    pre = df.loc[(df.time < row.time) & (~pd.isna(df[col]))].iloc[-1][col]\n",
    "                    return pre\n",
    "            \n",
    "    return row[col]\n",
    "\n",
    "def fill_na(col, df):\n",
    "#     # 删掉一分钟内统计了多次的重复值\n",
    "#     tmp = df[cols_date+[col]].loc[df[col].notna(), :]\n",
    "#     index_to_drop = tmp.loc[tmp.duplicated(cols_date)].index\n",
    "#     df.drop(index_to_drop, inplace=True)\n",
    "\n",
    "#     # fill na，用存在的观测值填充\n",
    "#     df[col].fillna(0, inplace=True)\n",
    "#     mapping = df[cols_date+[col]].groupby(cols_date)[col].transform('sum')\n",
    "#     df[col] = mapping\n",
    "    \n",
    "    # 对于缺失值，用最近的一次观测填充\n",
    "    df[col] = df.apply(fill_with_latest, axis=1, args=(col, df))\n",
    "\n",
    "    return df"
   ]
  },
  {
   "cell_type": "code",
   "execution_count": 5,
   "metadata": {},
   "outputs": [
    {
     "name": "stdout",
     "output_type": "stream",
     "text": [
      "temp_out\n",
      "hum_out\n",
      "air_out\n",
      "hum_in\n",
      "air_in\n",
      "temp_in\n",
      "second\n",
      "CPU times: user 1min 20s, sys: 428 ms, total: 1min 21s\n",
      "Wall time: 1min 22s\n"
     ]
    }
   ],
   "source": [
    "%%time\n",
    "for feat in features+['second']:\n",
    "    print(feat)\n",
    "    train = fill_na(feat, train)"
   ]
  },
  {
   "cell_type": "code",
   "execution_count": 6,
   "metadata": {},
   "outputs": [],
   "source": [
    "train['target'] = train['temp_out'] - train['temp_in']"
   ]
  },
  {
   "cell_type": "code",
   "execution_count": 7,
   "metadata": {},
   "outputs": [
    {
     "name": "stdout",
     "output_type": "stream",
     "text": [
      "temp_out\n",
      "hum_out\n",
      "air_out\n",
      "hum_in\n",
      "air_in\n"
     ]
    }
   ],
   "source": [
    "def avg_pre_next(row, col):\n",
    "    time = row.time\n",
    "    if pd.isna(row[col]):\n",
    "        pre_val = test.loc[test.time < time].iloc[-1][col]\n",
    "        next_val = test.loc[test.time > time].iloc[0][col]\n",
    "        return (pre_val + next_val) / 2\n",
    "    return row[col]\n",
    "\n",
    "for feat in features:\n",
    "    if feat == 'temp_in':\n",
    "        continue\n",
    "    print(feat)\n",
    "    test[feat] = test.apply(avg_pre_next, axis=1, args=(feat,))"
   ]
  },
  {
   "cell_type": "markdown",
   "metadata": {},
   "source": [
    "## Correct Outliers"
   ]
  },
  {
   "cell_type": "markdown",
   "metadata": {},
   "source": [
    "### air"
   ]
  },
  {
   "cell_type": "code",
   "execution_count": null,
   "metadata": {},
   "outputs": [],
   "source": [
    "fig = plt.figure(figsize=(18,10))\n",
    "plt.subplot(2,2,1)\n",
    "sns.boxplot(x=train.air_in)\n",
    "plt.title('train air_in')\n",
    "plt.subplot(2,2,2)\n",
    "sns.boxplot(x=train.air_out)\n",
    "plt.title('train air_out')\n",
    "plt.subplot(2,2,3)\n",
    "sns.boxplot(x=test.air_in)\n",
    "plt.title('test air_in')\n",
    "plt.subplot(2,2,4)\n",
    "sns.boxplot(x=test.air_out)\n",
    "plt.title('test air_out')"
   ]
  },
  {
   "cell_type": "code",
   "execution_count": 8,
   "metadata": {},
   "outputs": [],
   "source": [
    "# 用上一分钟和下一分钟的平均值代替异常值\n",
    "def correct_outlier(row, col, low, high, df):\n",
    "    if row[col] < low or row[col] > high:\n",
    "        time = row.time\n",
    "        pre_val = df.loc[(df.time < time) & (df[col] >= low) & (df[col] <= high)]\n",
    "        pre_val = pre_val.iloc[-1][col]\n",
    "        next_val = df.loc[(df.time > time) & (df[col] >= low) & (df[col] <= high)]\n",
    "        next_val = next_val.iloc[0][col]\n",
    "        return (pre_val + next_val) / 2\n",
    "    return row[col]\n",
    "\n",
    "train.air_in = train.apply(correct_outlier, axis=1, args=('air_in', 965, 1000, train))\n",
    "test.air_in = test.apply(correct_outlier, axis=1, args=('air_in', 500, 1000, test))\n",
    "train.air_out = train.apply(correct_outlier, axis=1, args=('air_out', 965, 1000, train))\n",
    "test.air_out = test.apply(correct_outlier, axis=1, args=('air_out', 960, 1000, test))"
   ]
  },
  {
   "cell_type": "code",
   "execution_count": null,
   "metadata": {},
   "outputs": [],
   "source": [
    "# train = train.loc[(train.air_in > 967.2) & (train.air_in < 1000), :]\n",
    "# train = train.loc[(train.air_out > 966.1) & (train.air_out < 1000), :]"
   ]
  },
  {
   "cell_type": "code",
   "execution_count": null,
   "metadata": {},
   "outputs": [],
   "source": [
    "fig = plt.figure(figsize=(18, 12))\n",
    "plt.subplot(3, 2, 1)\n",
    "sns.lineplot(data=train.loc[train.time < '2019-3-24 01'].air_in)\n",
    "plt.title('3.14–3.24 air_in')\n",
    "plt.subplot(3, 2, 2)\n",
    "sns.lineplot(data=train.loc[train.time < '2019-3-24 01'].air_out)\n",
    "plt.title('3.14–3.24 air_out')\n",
    "plt.subplot(3, 2, 3)\n",
    "sns.lineplot(data=train.loc[train.time >= '2019-3-24 01'].air_in)\n",
    "plt.title('3.24-4.3 air_in')\n",
    "plt.subplot(3, 2, 4)\n",
    "sns.lineplot(data=train.loc[train.time >= '2019-3-24 01'].air_out)\n",
    "plt.title('3.24–4.3 air_out')\n",
    "plt.subplot(3, 2, 5)\n",
    "sns.lineplot(data=test.air_in)\n",
    "plt.title('4.3-4.13 air_in')\n",
    "plt.subplot(3, 2, 6)\n",
    "sns.lineplot(data=test.air_out)\n",
    "plt.title('4.3–4.13 air_out')"
   ]
  },
  {
   "cell_type": "code",
   "execution_count": null,
   "metadata": {},
   "outputs": [],
   "source": [
    "plt.figure(figsize=(15,5))\n",
    "plt.subplot(1,2,1)\n",
    "sns.kdeplot(data=train.loc[train.time < '2019-3-24 01'].air_in, shade=True, label='3.14–3.24 air_in')\n",
    "sns.kdeplot(data=train.loc[train.time >= '2019-3-24 01'].air_in, shade=True, label='3.24–4.3 air_in')\n",
    "sns.kdeplot(data=test.air_in, shade=True, label='4.3-4.13 air_in')\n",
    "plt.subplot(1,2,2)\n",
    "sns.kdeplot(data=train.loc[train.time < '2019-3-24 01'].air_out, shade=True, label='3.14–3.24 air_out')\n",
    "sns.kdeplot(data=train.loc[train.time >= '2019-3-24 01'].air_out, shade=True, label='3.24–4.3 air_out')\n",
    "sns.kdeplot(data=test.air_out, shade=True, label='4.3–4.13 air_out')"
   ]
  },
  {
   "cell_type": "markdown",
   "metadata": {},
   "source": [
    "### hum"
   ]
  },
  {
   "cell_type": "code",
   "execution_count": null,
   "metadata": {},
   "outputs": [],
   "source": [
    "fig = plt.figure(figsize=(18,10))\n",
    "plt.subplot(2,2,1)\n",
    "sns.boxplot(x=train.hum_in)\n",
    "plt.title('train hum_in')\n",
    "plt.subplot(2,2,2)\n",
    "sns.boxplot(x=train.hum_out)\n",
    "plt.title('train hum_out')\n",
    "plt.subplot(2,2,3)\n",
    "sns.boxplot(x=test.hum_in)\n",
    "plt.title('test hum_in')\n",
    "plt.subplot(2,2,4)\n",
    "sns.boxplot(x=test.hum_out)\n",
    "plt.title('test hum_out')"
   ]
  },
  {
   "cell_type": "code",
   "execution_count": null,
   "metadata": {},
   "outputs": [],
   "source": [
    "# train = train.loc[train.hum_in > 36, :]\n",
    "# train = train.loc[train.hum_out > 30, :]"
   ]
  },
  {
   "cell_type": "code",
   "execution_count": null,
   "metadata": {},
   "outputs": [],
   "source": [
    "fig = plt.figure(figsize=(18, 12))\n",
    "plt.subplot(3, 2, 1)\n",
    "sns.lineplot(data=train.loc[train.time < '2019-3-24 01'].hum_in)\n",
    "plt.title('3.14–3.24 hum_in')\n",
    "plt.subplot(3, 2, 2)\n",
    "sns.lineplot(data=train.loc[train.time < '2019-3-24 01'].hum_out)\n",
    "plt.title('3.14–3.24 hum_out')\n",
    "plt.subplot(3, 2, 3)\n",
    "sns.lineplot(data=train.loc[train.time >= '2019-3-24 01'].hum_in)\n",
    "plt.title('3.24-4.3 hum_in')\n",
    "plt.subplot(3, 2, 4)\n",
    "sns.lineplot(data=train.loc[train.time >= '2019-3-24 01'].hum_out)\n",
    "plt.title('3.24–4.3 hum_out')\n",
    "plt.subplot(3, 2, 5)\n",
    "sns.lineplot(data=test.hum_in)\n",
    "plt.title('4.3-4.13 hum_in')\n",
    "plt.subplot(3, 2, 6)\n",
    "sns.lineplot(data=test.hum_out)\n",
    "plt.title('4.3–4.13 hum_out')"
   ]
  },
  {
   "cell_type": "code",
   "execution_count": null,
   "metadata": {},
   "outputs": [],
   "source": [
    "plt.figure(figsize=(15,5))\n",
    "plt.subplot(1,2,1)\n",
    "sns.kdeplot(data=train.loc[train.time < '2019-3-24 01'].hum_in, shade=True, label='3.14–3.24 hum_in')\n",
    "sns.kdeplot(data=train.loc[train.time >= '2019-3-24 01'].hum_in, shade=True, label='3.24–4.3 hum_in')\n",
    "sns.kdeplot(data=test.hum_in, shade=True, label='4.3-4.13 hum_in')\n",
    "plt.subplot(1,2,2)\n",
    "sns.kdeplot(data=train.loc[train.time < '2019-3-24 01'].hum_out, shade=True, label='3.14–3.24 hum_out')\n",
    "sns.kdeplot(data=train.loc[train.time >= '2019-3-24 01'].hum_out, shade=True, label='3.24–4.3 hum_out')\n",
    "sns.kdeplot(data=test.hum_out, shade=True, label='4.3–4.13 hum_out')"
   ]
  },
  {
   "cell_type": "markdown",
   "metadata": {},
   "source": [
    "### temp"
   ]
  },
  {
   "cell_type": "code",
   "execution_count": null,
   "metadata": {},
   "outputs": [],
   "source": [
    "fig = plt.figure(figsize=(18, 12))\n",
    "plt.subplot(3, 2, 1)\n",
    "sns.lineplot(data=train.loc[train.time < '2019-3-24 01'].temp_in)\n",
    "plt.title('3.14–3.24 temp_in')\n",
    "plt.subplot(3, 2, 2)\n",
    "sns.lineplot(data=train.loc[train.time < '2019-3-24 01'].temp_out)\n",
    "plt.title('3.14–3.24 temp_out')\n",
    "plt.subplot(3, 2, 3)\n",
    "sns.lineplot(data=train.loc[train.time >= '2019-3-24 01'].temp_in)\n",
    "plt.title('3.24-4.3 temp_in')\n",
    "plt.subplot(3, 2, 4)\n",
    "sns.lineplot(data=train.loc[train.time >= '2019-3-24 01'].temp_out)\n",
    "plt.title('3.24–4.3 temp_out')\n",
    "plt.subplot(3, 2, 6)\n",
    "sns.lineplot(data=test.temp_out)\n",
    "plt.title('4.3–4.13 temp_out')"
   ]
  },
  {
   "cell_type": "code",
   "execution_count": null,
   "metadata": {},
   "outputs": [],
   "source": [
    "plt.figure(figsize=(15,5))\n",
    "plt.subplot(1,2,1)\n",
    "sns.kdeplot(data=train.loc[train.time < '2019-3-24 01'].temp_in, shade=True, label='3.14–3.24 temp_in')\n",
    "sns.kdeplot(data=train.loc[train.time >= '2019-3-24 01'].temp_in, shade=True, label='3.24–4.3 temp_in')\n",
    "plt.subplot(1,2,2)\n",
    "sns.kdeplot(data=train.loc[train.time < '2019-3-24 01'].temp_out, shade=True, label='3.14–3.24 temp_out')\n",
    "sns.kdeplot(data=train.loc[train.time >= '2019-3-24 01'].temp_out, shade=True, label='3.24–4.3 temp_out')\n",
    "sns.kdeplot(data=test.temp_out, shade=True, label='4.3–4.13 temp_out')"
   ]
  },
  {
   "cell_type": "markdown",
   "metadata": {},
   "source": [
    "# Feature Engineering"
   ]
  },
  {
   "cell_type": "code",
   "execution_count": null,
   "metadata": {},
   "outputs": [],
   "source": [
    "air_in_mean, air_out_mean = test.air_in.mean(), test.air_out.mean()\n",
    "hum_in_mean, hum_out_mean = test.hum_in.mean(), test.hum_out.mean()\n",
    "temp_out_mean = test.temp_out.mean()"
   ]
  },
  {
   "cell_type": "code",
   "execution_count": null,
   "metadata": {},
   "outputs": [],
   "source": [
    "train.air_in -= (train.air_in.mean() - air_in_mean)\n",
    "train.air_out -= (train.air_out.mean() - air_out_mean)\n",
    "train.hum_in -= (train.hum_in.mean() - hum_in_mean)\n",
    "train.hum_out -= (train.hum_out.mean() - hum_out_mean)\n",
    "train.temp_out += (temp_out_mean - train.temp_out.mean())"
   ]
  },
  {
   "cell_type": "markdown",
   "metadata": {},
   "source": [
    "## Shift features"
   ]
  },
  {
   "cell_type": "code",
   "execution_count": 81,
   "metadata": {},
   "outputs": [],
   "source": [
    "train.drop('temp_in', axis=1, inplace=True)\n",
    "test.drop('temp_in', axis=1, inplace=True)\n",
    "matrix = pd.concat([train, test], axis=0)\n",
    "matrix.set_index('time', inplace=True)\n",
    "\n",
    "features = ['temp_out', 'air_out', 'air_in', 'hum_out', 'hum_in']\n",
    "lags = [6, 12, 24, 48]"
   ]
  },
  {
   "cell_type": "code",
   "execution_count": 82,
   "metadata": {},
   "outputs": [],
   "source": [
    "for feat in features:\n",
    "    for n in lags:\n",
    "        train['lag_'+str(n)+'_hours_'+feat] = train[feat].shift(n*60)\n",
    "        test['lag_'+str(n)+'_hours_'+feat] = test[feat].shift(n*2)"
   ]
  },
  {
   "cell_type": "markdown",
   "metadata": {},
   "source": [
    "## Rolling features"
   ]
  },
  {
   "cell_type": "code",
   "execution_count": 86,
   "metadata": {},
   "outputs": [],
   "source": [
    "for feat in features:\n",
    "    for n in lags:\n",
    "        matrix['mean_'+str(n)+'_hours_'+feat] = matrix[feat].rolling('6h').mean()\n",
    "        matrix['median_'+str(n)+'_hours_'+feat] = matrix[feat].rolling('6h').median()\n",
    "        matrix['max_'+str(n)+'_hours_'+feat] = matrix[feat].rolling('6h').max()\n",
    "        matrix['min_'+str(n)+'_hours_'+feat] = matrix[feat].rolling('6h').min()\n",
    "        matrix['std_'+str(n)+'_hours_'+feat] = matrix[feat].rolling('6h').std()\n",
    "        matrix['skew_'+str(n)+'_hours_'+feat] = matrix[feat].rolling('6h').skew()\n",
    "        matrix['q1_'+str(n)+'_hours_'+feat] = matrix[feat].rolling('6h').quantile(quantile=0.25)\n",
    "        matrix['q3_'+str(n)+'_hours_'+feat] = matrix[feat].rolling('6h').median(quantile=0.75)\n",
    "        matrix['var_'+str(n)+'_hours_'+feat] = matrix['std_6_hours_'+feat] / matrix['mean_6_hours_'+feat]"
   ]
  },
  {
   "cell_type": "code",
   "execution_count": 87,
   "metadata": {},
   "outputs": [],
   "source": [
    "matrix.reset_index(inplace=True)"
   ]
  },
  {
   "cell_type": "markdown",
   "metadata": {},
   "source": [
    "# Modeling"
   ]
  },
  {
   "cell_type": "code",
   "execution_count": 88,
   "metadata": {},
   "outputs": [],
   "source": [
    "data = matrix.copy()\n",
    "data = data.loc[data.time >= '2019-3-16 01', :]"
   ]
  },
  {
   "cell_type": "code",
   "execution_count": 92,
   "metadata": {},
   "outputs": [],
   "source": [
    "features_to_drop = ['timestamp', 'time', 'target', 'day', 'year', 'second']\n",
    "\n",
    "X_train = data.loc[data.time < '2019-3-24 01'].drop(features_to_drop, axis=1)\n",
    "y_train = data.loc[data.time < '2019-3-24 01']['target']\n",
    "X_val = data.loc[(data.time >= '2019-3-24 01') & (data.time < '2019-4-3 01')].drop(features_to_drop, axis=1)\n",
    "y_val = data.loc[(data.time >= '2019-3-24 01') & (data.time < '2019-4-3 01')]['target']\n",
    "X_test = data.loc[data.time >= '2019-4-3 01'].drop(features_to_drop, axis=1)"
   ]
  },
  {
   "cell_type": "markdown",
   "metadata": {},
   "source": [
    "## XGBoost"
   ]
  },
  {
   "cell_type": "code",
   "execution_count": 94,
   "metadata": {},
   "outputs": [],
   "source": [
    "from xgboost import XGBRegressor\n",
    "from xgboost import plot_importance\n",
    "\n",
    "def plot_features(booster, figsize):    \n",
    "    fig, ax = plt.subplots(1,1,figsize=figsize)\n",
    "    plot_importance(booster=booster, ax=ax)\n",
    "    return fig"
   ]
  },
  {
   "cell_type": "code",
   "execution_count": 95,
   "metadata": {
    "scrolled": true
   },
   "outputs": [
    {
     "name": "stdout",
     "output_type": "stream",
     "text": [
      "[0]\tvalidation_0-rmse:0.91623\tvalidation_1-rmse:0.82320\n",
      "Multiple eval metrics have been passed: 'validation_1-rmse' will be used for early stopping.\n",
      "\n",
      "Will train until validation_1-rmse hasn't improved in 20 rounds.\n",
      "[1]\tvalidation_0-rmse:0.83162\tvalidation_1-rmse:0.76324\n",
      "[2]\tvalidation_0-rmse:0.75518\tvalidation_1-rmse:0.71210\n",
      "[3]\tvalidation_0-rmse:0.68702\tvalidation_1-rmse:0.66893\n",
      "[4]\tvalidation_0-rmse:0.62465\tvalidation_1-rmse:0.63499\n",
      "[5]\tvalidation_0-rmse:0.56933\tvalidation_1-rmse:0.61477\n",
      "[6]\tvalidation_0-rmse:0.51885\tvalidation_1-rmse:0.59409\n",
      "[7]\tvalidation_0-rmse:0.47463\tvalidation_1-rmse:0.57947\n",
      "[8]\tvalidation_0-rmse:0.43376\tvalidation_1-rmse:0.56424\n",
      "[9]\tvalidation_0-rmse:0.39724\tvalidation_1-rmse:0.54910\n",
      "[10]\tvalidation_0-rmse:0.36509\tvalidation_1-rmse:0.53578\n",
      "[11]\tvalidation_0-rmse:0.33619\tvalidation_1-rmse:0.52553\n",
      "[12]\tvalidation_0-rmse:0.31022\tvalidation_1-rmse:0.52235\n",
      "[13]\tvalidation_0-rmse:0.28645\tvalidation_1-rmse:0.51836\n",
      "[14]\tvalidation_0-rmse:0.26673\tvalidation_1-rmse:0.51006\n",
      "[15]\tvalidation_0-rmse:0.24820\tvalidation_1-rmse:0.50728\n",
      "[16]\tvalidation_0-rmse:0.23192\tvalidation_1-rmse:0.50487\n",
      "[17]\tvalidation_0-rmse:0.21613\tvalidation_1-rmse:0.50318\n",
      "[18]\tvalidation_0-rmse:0.20358\tvalidation_1-rmse:0.50123\n",
      "[19]\tvalidation_0-rmse:0.19224\tvalidation_1-rmse:0.50049\n",
      "[20]\tvalidation_0-rmse:0.18186\tvalidation_1-rmse:0.49966\n",
      "[21]\tvalidation_0-rmse:0.17376\tvalidation_1-rmse:0.49919\n",
      "[22]\tvalidation_0-rmse:0.16576\tvalidation_1-rmse:0.49967\n",
      "[23]\tvalidation_0-rmse:0.15866\tvalidation_1-rmse:0.50053\n",
      "[24]\tvalidation_0-rmse:0.15261\tvalidation_1-rmse:0.50098\n",
      "[25]\tvalidation_0-rmse:0.14609\tvalidation_1-rmse:0.50387\n",
      "[26]\tvalidation_0-rmse:0.14105\tvalidation_1-rmse:0.50462\n",
      "[27]\tvalidation_0-rmse:0.13748\tvalidation_1-rmse:0.50435\n",
      "[28]\tvalidation_0-rmse:0.13344\tvalidation_1-rmse:0.50493\n",
      "[29]\tvalidation_0-rmse:0.12967\tvalidation_1-rmse:0.50294\n",
      "[30]\tvalidation_0-rmse:0.12615\tvalidation_1-rmse:0.50371\n",
      "[31]\tvalidation_0-rmse:0.12324\tvalidation_1-rmse:0.50357\n",
      "[32]\tvalidation_0-rmse:0.12033\tvalidation_1-rmse:0.50324\n",
      "[33]\tvalidation_0-rmse:0.11804\tvalidation_1-rmse:0.50422\n",
      "[34]\tvalidation_0-rmse:0.11584\tvalidation_1-rmse:0.50473\n",
      "[35]\tvalidation_0-rmse:0.11392\tvalidation_1-rmse:0.50456\n",
      "[36]\tvalidation_0-rmse:0.11241\tvalidation_1-rmse:0.50466\n",
      "[37]\tvalidation_0-rmse:0.11087\tvalidation_1-rmse:0.50458\n",
      "[38]\tvalidation_0-rmse:0.10889\tvalidation_1-rmse:0.51011\n",
      "[39]\tvalidation_0-rmse:0.10726\tvalidation_1-rmse:0.51007\n",
      "[40]\tvalidation_0-rmse:0.10542\tvalidation_1-rmse:0.51036\n",
      "[41]\tvalidation_0-rmse:0.10413\tvalidation_1-rmse:0.51024\n",
      "Stopping. Best iteration:\n",
      "[21]\tvalidation_0-rmse:0.17376\tvalidation_1-rmse:0.49919\n",
      "\n",
      "round 1: 0.2492\n",
      "params: {'colsample_bytree': 0.6, 'eta': 0.1, 'max_depth': 7, 'min_child_weight': 0.5, 'subsample': 0.6}\n",
      "\n",
      "\n",
      "[0]\tvalidation_0-rmse:0.91589\tvalidation_1-rmse:0.82793\n",
      "Multiple eval metrics have been passed: 'validation_1-rmse' will be used for early stopping.\n",
      "\n",
      "Will train until validation_1-rmse hasn't improved in 20 rounds.\n",
      "[1]\tvalidation_0-rmse:0.83130\tvalidation_1-rmse:0.76748\n",
      "[2]\tvalidation_0-rmse:0.75476\tvalidation_1-rmse:0.71753\n",
      "[3]\tvalidation_0-rmse:0.68670\tvalidation_1-rmse:0.67385\n",
      "[4]\tvalidation_0-rmse:0.62431\tvalidation_1-rmse:0.64062\n",
      "[5]\tvalidation_0-rmse:0.56892\tvalidation_1-rmse:0.62035\n",
      "[6]\tvalidation_0-rmse:0.51869\tvalidation_1-rmse:0.60006\n",
      "[7]\tvalidation_0-rmse:0.47431\tvalidation_1-rmse:0.58409\n",
      "[8]\tvalidation_0-rmse:0.43330\tvalidation_1-rmse:0.56990\n",
      "[9]\tvalidation_0-rmse:0.39647\tvalidation_1-rmse:0.55546\n",
      "[10]\tvalidation_0-rmse:0.36456\tvalidation_1-rmse:0.54241\n",
      "[11]\tvalidation_0-rmse:0.33568\tvalidation_1-rmse:0.53264\n",
      "[12]\tvalidation_0-rmse:0.30930\tvalidation_1-rmse:0.52924\n",
      "[13]\tvalidation_0-rmse:0.28579\tvalidation_1-rmse:0.52509\n",
      "[14]\tvalidation_0-rmse:0.26576\tvalidation_1-rmse:0.51980\n",
      "[15]\tvalidation_0-rmse:0.24688\tvalidation_1-rmse:0.51688\n",
      "[16]\tvalidation_0-rmse:0.23064\tvalidation_1-rmse:0.51504\n",
      "[17]\tvalidation_0-rmse:0.21564\tvalidation_1-rmse:0.51351\n",
      "[18]\tvalidation_0-rmse:0.20248\tvalidation_1-rmse:0.51363\n",
      "[19]\tvalidation_0-rmse:0.19121\tvalidation_1-rmse:0.51240\n",
      "[20]\tvalidation_0-rmse:0.18076\tvalidation_1-rmse:0.51214\n",
      "[21]\tvalidation_0-rmse:0.17210\tvalidation_1-rmse:0.51164\n",
      "[22]\tvalidation_0-rmse:0.16413\tvalidation_1-rmse:0.51127\n",
      "[23]\tvalidation_0-rmse:0.15671\tvalidation_1-rmse:0.51044\n",
      "[24]\tvalidation_0-rmse:0.15077\tvalidation_1-rmse:0.51002\n",
      "[25]\tvalidation_0-rmse:0.14428\tvalidation_1-rmse:0.51299\n",
      "[26]\tvalidation_0-rmse:0.13861\tvalidation_1-rmse:0.51360\n",
      "[27]\tvalidation_0-rmse:0.13493\tvalidation_1-rmse:0.51302\n",
      "[28]\tvalidation_0-rmse:0.13098\tvalidation_1-rmse:0.51353\n",
      "[29]\tvalidation_0-rmse:0.12675\tvalidation_1-rmse:0.51316\n",
      "[30]\tvalidation_0-rmse:0.12286\tvalidation_1-rmse:0.51478\n",
      "[31]\tvalidation_0-rmse:0.11962\tvalidation_1-rmse:0.51503\n",
      "[32]\tvalidation_0-rmse:0.11693\tvalidation_1-rmse:0.51519\n",
      "[33]\tvalidation_0-rmse:0.11452\tvalidation_1-rmse:0.51540\n",
      "[34]\tvalidation_0-rmse:0.11188\tvalidation_1-rmse:0.51975\n",
      "[35]\tvalidation_0-rmse:0.10972\tvalidation_1-rmse:0.52028\n",
      "[36]\tvalidation_0-rmse:0.10804\tvalidation_1-rmse:0.52045\n",
      "[37]\tvalidation_0-rmse:0.10660\tvalidation_1-rmse:0.52125\n",
      "[38]\tvalidation_0-rmse:0.10458\tvalidation_1-rmse:0.52326\n",
      "[39]\tvalidation_0-rmse:0.10285\tvalidation_1-rmse:0.52313\n",
      "[40]\tvalidation_0-rmse:0.10109\tvalidation_1-rmse:0.52310\n",
      "[41]\tvalidation_0-rmse:0.09990\tvalidation_1-rmse:0.52330\n",
      "[42]\tvalidation_0-rmse:0.09835\tvalidation_1-rmse:0.52387\n",
      "[43]\tvalidation_0-rmse:0.09718\tvalidation_1-rmse:0.52401\n",
      "[44]\tvalidation_0-rmse:0.09615\tvalidation_1-rmse:0.52533\n",
      "Stopping. Best iteration:\n",
      "[24]\tvalidation_0-rmse:0.15077\tvalidation_1-rmse:0.51002\n",
      "\n",
      "round 2: 0.2601\n",
      "params: {'colsample_bytree': 0.6, 'eta': 0.1, 'max_depth': 7, 'min_child_weight': 0.5, 'subsample': 0.7}\n",
      "\n",
      "\n",
      "[0]\tvalidation_0-rmse:0.91540\tvalidation_1-rmse:0.82221\n",
      "Multiple eval metrics have been passed: 'validation_1-rmse' will be used for early stopping.\n",
      "\n",
      "Will train until validation_1-rmse hasn't improved in 20 rounds.\n",
      "[1]\tvalidation_0-rmse:0.83085\tvalidation_1-rmse:0.76626\n",
      "[2]\tvalidation_0-rmse:0.75407\tvalidation_1-rmse:0.71679\n",
      "[3]\tvalidation_0-rmse:0.68598\tvalidation_1-rmse:0.67292\n",
      "[4]\tvalidation_0-rmse:0.62351\tvalidation_1-rmse:0.63965\n",
      "[5]\tvalidation_0-rmse:0.56808\tvalidation_1-rmse:0.61902\n",
      "[6]\tvalidation_0-rmse:0.51729\tvalidation_1-rmse:0.59929\n",
      "[7]\tvalidation_0-rmse:0.47332\tvalidation_1-rmse:0.58607\n",
      "[8]\tvalidation_0-rmse:0.43220\tvalidation_1-rmse:0.57094\n",
      "[9]\tvalidation_0-rmse:0.39540\tvalidation_1-rmse:0.55812\n",
      "[10]\tvalidation_0-rmse:0.36311\tvalidation_1-rmse:0.54575\n",
      "[11]\tvalidation_0-rmse:0.33408\tvalidation_1-rmse:0.53761\n",
      "[12]\tvalidation_0-rmse:0.30729\tvalidation_1-rmse:0.53216\n",
      "[13]\tvalidation_0-rmse:0.28364\tvalidation_1-rmse:0.52917\n",
      "[14]\tvalidation_0-rmse:0.26302\tvalidation_1-rmse:0.52404\n",
      "[15]\tvalidation_0-rmse:0.24398\tvalidation_1-rmse:0.52124\n",
      "[16]\tvalidation_0-rmse:0.22775\tvalidation_1-rmse:0.51933\n",
      "[17]\tvalidation_0-rmse:0.21250\tvalidation_1-rmse:0.52051\n",
      "[18]\tvalidation_0-rmse:0.19937\tvalidation_1-rmse:0.52027\n",
      "[19]\tvalidation_0-rmse:0.18753\tvalidation_1-rmse:0.52109\n",
      "[20]\tvalidation_0-rmse:0.17724\tvalidation_1-rmse:0.52008\n",
      "[21]\tvalidation_0-rmse:0.16875\tvalidation_1-rmse:0.51965\n",
      "[22]\tvalidation_0-rmse:0.16046\tvalidation_1-rmse:0.51955\n",
      "[23]\tvalidation_0-rmse:0.15292\tvalidation_1-rmse:0.52073\n",
      "[24]\tvalidation_0-rmse:0.14703\tvalidation_1-rmse:0.52131\n",
      "[25]\tvalidation_0-rmse:0.14051\tvalidation_1-rmse:0.52645\n",
      "[26]\tvalidation_0-rmse:0.13474\tvalidation_1-rmse:0.52727\n",
      "[27]\tvalidation_0-rmse:0.13097\tvalidation_1-rmse:0.52695\n",
      "[28]\tvalidation_0-rmse:0.12698\tvalidation_1-rmse:0.52657\n",
      "[29]\tvalidation_0-rmse:0.12234\tvalidation_1-rmse:0.52757\n",
      "[30]\tvalidation_0-rmse:0.11865\tvalidation_1-rmse:0.52967\n",
      "[31]\tvalidation_0-rmse:0.11599\tvalidation_1-rmse:0.53014\n",
      "[32]\tvalidation_0-rmse:0.11315\tvalidation_1-rmse:0.53072\n",
      "[33]\tvalidation_0-rmse:0.11093\tvalidation_1-rmse:0.53065\n",
      "[34]\tvalidation_0-rmse:0.10842\tvalidation_1-rmse:0.53467\n",
      "[35]\tvalidation_0-rmse:0.10578\tvalidation_1-rmse:0.53491\n",
      "[36]\tvalidation_0-rmse:0.10407\tvalidation_1-rmse:0.53522\n",
      "Stopping. Best iteration:\n",
      "[16]\tvalidation_0-rmse:0.22775\tvalidation_1-rmse:0.51933\n",
      "\n",
      "round 3: 0.2697\n",
      "params: {'colsample_bytree': 0.6, 'eta': 0.1, 'max_depth': 7, 'min_child_weight': 0.5, 'subsample': 0.8}\n",
      "\n",
      "\n",
      "[0]\tvalidation_0-rmse:0.91543\tvalidation_1-rmse:0.82210\n",
      "Multiple eval metrics have been passed: 'validation_1-rmse' will be used for early stopping.\n",
      "\n",
      "Will train until validation_1-rmse hasn't improved in 20 rounds.\n",
      "[1]\tvalidation_0-rmse:0.83017\tvalidation_1-rmse:0.76208\n",
      "[2]\tvalidation_0-rmse:0.75305\tvalidation_1-rmse:0.71214\n",
      "[3]\tvalidation_0-rmse:0.68391\tvalidation_1-rmse:0.66643\n",
      "[4]\tvalidation_0-rmse:0.62123\tvalidation_1-rmse:0.63008\n",
      "[5]\tvalidation_0-rmse:0.56510\tvalidation_1-rmse:0.61189\n",
      "[6]\tvalidation_0-rmse:0.51423\tvalidation_1-rmse:0.59320\n",
      "[7]\tvalidation_0-rmse:0.46893\tvalidation_1-rmse:0.58032\n",
      "[8]\tvalidation_0-rmse:0.42787\tvalidation_1-rmse:0.56555\n",
      "[9]\tvalidation_0-rmse:0.39036\tvalidation_1-rmse:0.55130\n",
      "[10]\tvalidation_0-rmse:0.35800\tvalidation_1-rmse:0.54310\n",
      "[11]\tvalidation_0-rmse:0.32873\tvalidation_1-rmse:0.53447\n",
      "[12]\tvalidation_0-rmse:0.30172\tvalidation_1-rmse:0.53149\n",
      "[13]\tvalidation_0-rmse:0.27741\tvalidation_1-rmse:0.52783\n",
      "[14]\tvalidation_0-rmse:0.25601\tvalidation_1-rmse:0.51786\n",
      "[15]\tvalidation_0-rmse:0.23768\tvalidation_1-rmse:0.51583\n",
      "[16]\tvalidation_0-rmse:0.22051\tvalidation_1-rmse:0.51345\n",
      "[17]\tvalidation_0-rmse:0.20467\tvalidation_1-rmse:0.51549\n",
      "[18]\tvalidation_0-rmse:0.19163\tvalidation_1-rmse:0.51425\n",
      "[19]\tvalidation_0-rmse:0.17981\tvalidation_1-rmse:0.51296\n",
      "[20]\tvalidation_0-rmse:0.16885\tvalidation_1-rmse:0.51204\n",
      "[21]\tvalidation_0-rmse:0.15908\tvalidation_1-rmse:0.51241\n",
      "[22]\tvalidation_0-rmse:0.15102\tvalidation_1-rmse:0.51340\n",
      "[23]\tvalidation_0-rmse:0.14329\tvalidation_1-rmse:0.51395\n",
      "[24]\tvalidation_0-rmse:0.13698\tvalidation_1-rmse:0.51393\n",
      "[25]\tvalidation_0-rmse:0.12999\tvalidation_1-rmse:0.51933\n",
      "[26]\tvalidation_0-rmse:0.12494\tvalidation_1-rmse:0.51989\n",
      "[27]\tvalidation_0-rmse:0.12106\tvalidation_1-rmse:0.51922\n",
      "[28]\tvalidation_0-rmse:0.11706\tvalidation_1-rmse:0.51964\n",
      "[29]\tvalidation_0-rmse:0.11261\tvalidation_1-rmse:0.52181\n",
      "[30]\tvalidation_0-rmse:0.10951\tvalidation_1-rmse:0.52160\n",
      "[31]\tvalidation_0-rmse:0.10633\tvalidation_1-rmse:0.52214\n",
      "[32]\tvalidation_0-rmse:0.10307\tvalidation_1-rmse:0.52227\n",
      "[33]\tvalidation_0-rmse:0.10093\tvalidation_1-rmse:0.52293\n",
      "[34]\tvalidation_0-rmse:0.09881\tvalidation_1-rmse:0.52297\n",
      "[35]\tvalidation_0-rmse:0.09685\tvalidation_1-rmse:0.52305\n",
      "[36]\tvalidation_0-rmse:0.09524\tvalidation_1-rmse:0.52314\n",
      "[37]\tvalidation_0-rmse:0.09408\tvalidation_1-rmse:0.52339\n",
      "[38]\tvalidation_0-rmse:0.09196\tvalidation_1-rmse:0.52891\n",
      "[39]\tvalidation_0-rmse:0.09053\tvalidation_1-rmse:0.52779\n",
      "[40]\tvalidation_0-rmse:0.08866\tvalidation_1-rmse:0.52769\n",
      "Stopping. Best iteration:\n",
      "[20]\tvalidation_0-rmse:0.16885\tvalidation_1-rmse:0.51204\n",
      "\n",
      "round 4: 0.2622\n",
      "params: {'colsample_bytree': 0.6, 'eta': 0.1, 'max_depth': 8, 'min_child_weight': 0.5, 'subsample': 0.6}\n",
      "\n",
      "\n",
      "[0]\tvalidation_0-rmse:0.91517\tvalidation_1-rmse:0.82879\n",
      "Multiple eval metrics have been passed: 'validation_1-rmse' will be used for early stopping.\n",
      "\n",
      "Will train until validation_1-rmse hasn't improved in 20 rounds.\n",
      "[1]\tvalidation_0-rmse:0.82981\tvalidation_1-rmse:0.76775\n",
      "[2]\tvalidation_0-rmse:0.75243\tvalidation_1-rmse:0.71887\n",
      "[3]\tvalidation_0-rmse:0.68327\tvalidation_1-rmse:0.67324\n",
      "[4]\tvalidation_0-rmse:0.62141\tvalidation_1-rmse:0.63878\n",
      "[5]\tvalidation_0-rmse:0.56549\tvalidation_1-rmse:0.62174\n",
      "[6]\tvalidation_0-rmse:0.51477\tvalidation_1-rmse:0.60507\n",
      "[7]\tvalidation_0-rmse:0.46940\tvalidation_1-rmse:0.59066\n",
      "[8]\tvalidation_0-rmse:0.42801\tvalidation_1-rmse:0.57554\n",
      "[9]\tvalidation_0-rmse:0.39040\tvalidation_1-rmse:0.56062\n",
      "[10]\tvalidation_0-rmse:0.35786\tvalidation_1-rmse:0.55083\n",
      "[11]\tvalidation_0-rmse:0.32866\tvalidation_1-rmse:0.54182\n",
      "[12]\tvalidation_0-rmse:0.30121\tvalidation_1-rmse:0.53601\n",
      "[13]\tvalidation_0-rmse:0.27687\tvalidation_1-rmse:0.53220\n",
      "[14]\tvalidation_0-rmse:0.25578\tvalidation_1-rmse:0.52628\n",
      "[15]\tvalidation_0-rmse:0.23640\tvalidation_1-rmse:0.52397\n",
      "[16]\tvalidation_0-rmse:0.21942\tvalidation_1-rmse:0.52168\n",
      "[17]\tvalidation_0-rmse:0.20330\tvalidation_1-rmse:0.52182\n",
      "[18]\tvalidation_0-rmse:0.19006\tvalidation_1-rmse:0.52229\n",
      "[19]\tvalidation_0-rmse:0.17845\tvalidation_1-rmse:0.52209\n",
      "[20]\tvalidation_0-rmse:0.16723\tvalidation_1-rmse:0.52236\n",
      "[21]\tvalidation_0-rmse:0.15786\tvalidation_1-rmse:0.52268\n",
      "[22]\tvalidation_0-rmse:0.15016\tvalidation_1-rmse:0.52281\n",
      "[23]\tvalidation_0-rmse:0.14225\tvalidation_1-rmse:0.52309\n",
      "[24]\tvalidation_0-rmse:0.13609\tvalidation_1-rmse:0.52450\n",
      "[25]\tvalidation_0-rmse:0.12933\tvalidation_1-rmse:0.52904\n",
      "[26]\tvalidation_0-rmse:0.12324\tvalidation_1-rmse:0.52883\n",
      "[27]\tvalidation_0-rmse:0.11917\tvalidation_1-rmse:0.52889\n",
      "[28]\tvalidation_0-rmse:0.11494\tvalidation_1-rmse:0.52830\n",
      "[29]\tvalidation_0-rmse:0.11062\tvalidation_1-rmse:0.52768\n",
      "[30]\tvalidation_0-rmse:0.10648\tvalidation_1-rmse:0.52904\n",
      "[31]\tvalidation_0-rmse:0.10327\tvalidation_1-rmse:0.52976\n",
      "[32]\tvalidation_0-rmse:0.10042\tvalidation_1-rmse:0.53004\n",
      "[33]\tvalidation_0-rmse:0.09812\tvalidation_1-rmse:0.53082\n",
      "[34]\tvalidation_0-rmse:0.09543\tvalidation_1-rmse:0.53549\n",
      "[35]\tvalidation_0-rmse:0.09311\tvalidation_1-rmse:0.53698\n",
      "[36]\tvalidation_0-rmse:0.09106\tvalidation_1-rmse:0.53690\n",
      "Stopping. Best iteration:\n",
      "[16]\tvalidation_0-rmse:0.21942\tvalidation_1-rmse:0.52168\n",
      "\n",
      "round 5: 0.2722\n",
      "params: {'colsample_bytree': 0.6, 'eta': 0.1, 'max_depth': 8, 'min_child_weight': 0.5, 'subsample': 0.7}\n",
      "\n",
      "\n",
      "[0]\tvalidation_0-rmse:0.91453\tvalidation_1-rmse:0.82308\n",
      "Multiple eval metrics have been passed: 'validation_1-rmse' will be used for early stopping.\n",
      "\n",
      "Will train until validation_1-rmse hasn't improved in 20 rounds.\n",
      "[1]\tvalidation_0-rmse:0.82890\tvalidation_1-rmse:0.76799\n",
      "[2]\tvalidation_0-rmse:0.75132\tvalidation_1-rmse:0.71681\n",
      "[3]\tvalidation_0-rmse:0.68227\tvalidation_1-rmse:0.67390\n",
      "[4]\tvalidation_0-rmse:0.61921\tvalidation_1-rmse:0.64251\n",
      "[5]\tvalidation_0-rmse:0.56318\tvalidation_1-rmse:0.62326\n",
      "[6]\tvalidation_0-rmse:0.51229\tvalidation_1-rmse:0.60592\n",
      "[7]\tvalidation_0-rmse:0.46696\tvalidation_1-rmse:0.60181\n",
      "[8]\tvalidation_0-rmse:0.42573\tvalidation_1-rmse:0.58714\n",
      "[9]\tvalidation_0-rmse:0.38847\tvalidation_1-rmse:0.57007\n",
      "[10]\tvalidation_0-rmse:0.35516\tvalidation_1-rmse:0.55870\n",
      "[11]\tvalidation_0-rmse:0.32574\tvalidation_1-rmse:0.54896\n",
      "[12]\tvalidation_0-rmse:0.29856\tvalidation_1-rmse:0.54309\n",
      "[13]\tvalidation_0-rmse:0.27426\tvalidation_1-rmse:0.53790\n",
      "[14]\tvalidation_0-rmse:0.25315\tvalidation_1-rmse:0.53165\n",
      "[15]\tvalidation_0-rmse:0.23368\tvalidation_1-rmse:0.52862\n",
      "[16]\tvalidation_0-rmse:0.21655\tvalidation_1-rmse:0.52564\n",
      "[17]\tvalidation_0-rmse:0.20068\tvalidation_1-rmse:0.52567\n",
      "[18]\tvalidation_0-rmse:0.18722\tvalidation_1-rmse:0.52489\n"
     ]
    },
    {
     "ename": "KeyboardInterrupt",
     "evalue": "",
     "output_type": "error",
     "traceback": [
      "\u001b[0;31m---------------------------------------------------------------------------\u001b[0m",
      "\u001b[0;31mKeyboardInterrupt\u001b[0m                         Traceback (most recent call last)",
      "\u001b[0;32m<ipython-input-95-df40d1c17a85>\u001b[0m in \u001b[0;36m<module>\u001b[0;34m\u001b[0m\n\u001b[1;32m     23\u001b[0m               \u001b[0meval_set\u001b[0m\u001b[0;34m=\u001b[0m\u001b[0;34m[\u001b[0m\u001b[0;34m(\u001b[0m\u001b[0mX_train\u001b[0m\u001b[0;34m,\u001b[0m \u001b[0my_train\u001b[0m\u001b[0;34m)\u001b[0m\u001b[0;34m,\u001b[0m \u001b[0;34m(\u001b[0m\u001b[0mX_val\u001b[0m\u001b[0;34m,\u001b[0m \u001b[0my_val\u001b[0m\u001b[0;34m)\u001b[0m\u001b[0;34m]\u001b[0m\u001b[0;34m,\u001b[0m\u001b[0;34m\u001b[0m\u001b[0;34m\u001b[0m\u001b[0m\n\u001b[1;32m     24\u001b[0m               \u001b[0mverbose\u001b[0m\u001b[0;34m=\u001b[0m\u001b[0;32mTrue\u001b[0m\u001b[0;34m,\u001b[0m\u001b[0;34m\u001b[0m\u001b[0;34m\u001b[0m\u001b[0m\n\u001b[0;32m---> 25\u001b[0;31m               early_stopping_rounds=20)\n\u001b[0m\u001b[1;32m     26\u001b[0m     \u001b[0mpre_val\u001b[0m \u001b[0;34m=\u001b[0m \u001b[0mmodel\u001b[0m\u001b[0;34m.\u001b[0m\u001b[0mpredict\u001b[0m\u001b[0;34m(\u001b[0m\u001b[0mX_val\u001b[0m\u001b[0;34m)\u001b[0m\u001b[0;34m\u001b[0m\u001b[0;34m\u001b[0m\u001b[0m\n\u001b[1;32m     27\u001b[0m     \u001b[0mscore\u001b[0m \u001b[0;34m=\u001b[0m \u001b[0mmean_squared_error\u001b[0m\u001b[0;34m(\u001b[0m\u001b[0my_val\u001b[0m\u001b[0;34m,\u001b[0m \u001b[0mpre_val\u001b[0m\u001b[0;34m)\u001b[0m\u001b[0;34m\u001b[0m\u001b[0;34m\u001b[0m\u001b[0m\n",
      "\u001b[0;32m/usr/local/lib/python3.7/site-packages/xgboost/sklearn.py\u001b[0m in \u001b[0;36mfit\u001b[0;34m(self, X, y, sample_weight, base_margin, eval_set, eval_metric, early_stopping_rounds, verbose, xgb_model, sample_weight_eval_set, callbacks)\u001b[0m\n\u001b[1;32m    542\u001b[0m                               \u001b[0mevals_result\u001b[0m\u001b[0;34m=\u001b[0m\u001b[0mevals_result\u001b[0m\u001b[0;34m,\u001b[0m \u001b[0mobj\u001b[0m\u001b[0;34m=\u001b[0m\u001b[0mobj\u001b[0m\u001b[0;34m,\u001b[0m \u001b[0mfeval\u001b[0m\u001b[0;34m=\u001b[0m\u001b[0mfeval\u001b[0m\u001b[0;34m,\u001b[0m\u001b[0;34m\u001b[0m\u001b[0;34m\u001b[0m\u001b[0m\n\u001b[1;32m    543\u001b[0m                               \u001b[0mverbose_eval\u001b[0m\u001b[0;34m=\u001b[0m\u001b[0mverbose\u001b[0m\u001b[0;34m,\u001b[0m \u001b[0mxgb_model\u001b[0m\u001b[0;34m=\u001b[0m\u001b[0mxgb_model\u001b[0m\u001b[0;34m,\u001b[0m\u001b[0;34m\u001b[0m\u001b[0;34m\u001b[0m\u001b[0m\n\u001b[0;32m--> 544\u001b[0;31m                               callbacks=callbacks)\n\u001b[0m\u001b[1;32m    545\u001b[0m \u001b[0;34m\u001b[0m\u001b[0m\n\u001b[1;32m    546\u001b[0m         \u001b[0;32mif\u001b[0m \u001b[0mevals_result\u001b[0m\u001b[0;34m:\u001b[0m\u001b[0;34m\u001b[0m\u001b[0;34m\u001b[0m\u001b[0m\n",
      "\u001b[0;32m/usr/local/lib/python3.7/site-packages/xgboost/training.py\u001b[0m in \u001b[0;36mtrain\u001b[0;34m(params, dtrain, num_boost_round, evals, obj, feval, maximize, early_stopping_rounds, evals_result, verbose_eval, xgb_model, callbacks)\u001b[0m\n\u001b[1;32m    210\u001b[0m                            \u001b[0mevals\u001b[0m\u001b[0;34m=\u001b[0m\u001b[0mevals\u001b[0m\u001b[0;34m,\u001b[0m\u001b[0;34m\u001b[0m\u001b[0;34m\u001b[0m\u001b[0m\n\u001b[1;32m    211\u001b[0m                            \u001b[0mobj\u001b[0m\u001b[0;34m=\u001b[0m\u001b[0mobj\u001b[0m\u001b[0;34m,\u001b[0m \u001b[0mfeval\u001b[0m\u001b[0;34m=\u001b[0m\u001b[0mfeval\u001b[0m\u001b[0;34m,\u001b[0m\u001b[0;34m\u001b[0m\u001b[0;34m\u001b[0m\u001b[0m\n\u001b[0;32m--> 212\u001b[0;31m                            xgb_model=xgb_model, callbacks=callbacks)\n\u001b[0m\u001b[1;32m    213\u001b[0m \u001b[0;34m\u001b[0m\u001b[0m\n\u001b[1;32m    214\u001b[0m \u001b[0;34m\u001b[0m\u001b[0m\n",
      "\u001b[0;32m/usr/local/lib/python3.7/site-packages/xgboost/training.py\u001b[0m in \u001b[0;36m_train_internal\u001b[0;34m(params, dtrain, num_boost_round, evals, obj, feval, xgb_model, callbacks)\u001b[0m\n\u001b[1;32m     73\u001b[0m         \u001b[0;31m# Skip the first update if it is a recovery step.\u001b[0m\u001b[0;34m\u001b[0m\u001b[0;34m\u001b[0m\u001b[0;34m\u001b[0m\u001b[0m\n\u001b[1;32m     74\u001b[0m         \u001b[0;32mif\u001b[0m \u001b[0mversion\u001b[0m \u001b[0;34m%\u001b[0m \u001b[0;36m2\u001b[0m \u001b[0;34m==\u001b[0m \u001b[0;36m0\u001b[0m\u001b[0;34m:\u001b[0m\u001b[0;34m\u001b[0m\u001b[0;34m\u001b[0m\u001b[0m\n\u001b[0;32m---> 75\u001b[0;31m             \u001b[0mbst\u001b[0m\u001b[0;34m.\u001b[0m\u001b[0mupdate\u001b[0m\u001b[0;34m(\u001b[0m\u001b[0mdtrain\u001b[0m\u001b[0;34m,\u001b[0m \u001b[0mi\u001b[0m\u001b[0;34m,\u001b[0m \u001b[0mobj\u001b[0m\u001b[0;34m)\u001b[0m\u001b[0;34m\u001b[0m\u001b[0;34m\u001b[0m\u001b[0m\n\u001b[0m\u001b[1;32m     76\u001b[0m             \u001b[0mbst\u001b[0m\u001b[0;34m.\u001b[0m\u001b[0msave_rabit_checkpoint\u001b[0m\u001b[0;34m(\u001b[0m\u001b[0;34m)\u001b[0m\u001b[0;34m\u001b[0m\u001b[0;34m\u001b[0m\u001b[0m\n\u001b[1;32m     77\u001b[0m             \u001b[0mversion\u001b[0m \u001b[0;34m+=\u001b[0m \u001b[0;36m1\u001b[0m\u001b[0;34m\u001b[0m\u001b[0;34m\u001b[0m\u001b[0m\n",
      "\u001b[0;32m/usr/local/lib/python3.7/site-packages/xgboost/core.py\u001b[0m in \u001b[0;36mupdate\u001b[0;34m(self, dtrain, iteration, fobj)\u001b[0m\n\u001b[1;32m   1367\u001b[0m             _check_call(_LIB.XGBoosterUpdateOneIter(self.handle,\n\u001b[1;32m   1368\u001b[0m                                                     \u001b[0mctypes\u001b[0m\u001b[0;34m.\u001b[0m\u001b[0mc_int\u001b[0m\u001b[0;34m(\u001b[0m\u001b[0miteration\u001b[0m\u001b[0;34m)\u001b[0m\u001b[0;34m,\u001b[0m\u001b[0;34m\u001b[0m\u001b[0;34m\u001b[0m\u001b[0m\n\u001b[0;32m-> 1369\u001b[0;31m                                                     dtrain.handle))\n\u001b[0m\u001b[1;32m   1370\u001b[0m         \u001b[0;32melse\u001b[0m\u001b[0;34m:\u001b[0m\u001b[0;34m\u001b[0m\u001b[0;34m\u001b[0m\u001b[0m\n\u001b[1;32m   1371\u001b[0m             \u001b[0mpred\u001b[0m \u001b[0;34m=\u001b[0m \u001b[0mself\u001b[0m\u001b[0;34m.\u001b[0m\u001b[0mpredict\u001b[0m\u001b[0;34m(\u001b[0m\u001b[0mdtrain\u001b[0m\u001b[0;34m,\u001b[0m \u001b[0moutput_margin\u001b[0m\u001b[0;34m=\u001b[0m\u001b[0;32mTrue\u001b[0m\u001b[0;34m,\u001b[0m \u001b[0mtraining\u001b[0m\u001b[0;34m=\u001b[0m\u001b[0;32mTrue\u001b[0m\u001b[0;34m)\u001b[0m\u001b[0;34m\u001b[0m\u001b[0;34m\u001b[0m\u001b[0m\n",
      "\u001b[0;31mKeyboardInterrupt\u001b[0m: "
     ]
    }
   ],
   "source": [
    "params = {\n",
    "    'eta': [0.1,0.2],\n",
    "    'max_depth': [7,8,9],\n",
    "    'colsample_bytree': [0.6,0.7,0.8],\n",
    "    'subsample': [0.6,0.7,0.8],\n",
    "    'min_child_weight': [0.5]\n",
    "}\n",
    "\n",
    "best_score, best_param = 100, None\n",
    "\n",
    "for i, p in enumerate(ParameterGrid(params)):\n",
    "    model = XGBRegressor(max_depth=7,\n",
    "                         n_estimators=30,\n",
    "                         min_child_weight=0.5, \n",
    "                         colsample_bytree=0.7, \n",
    "                         subsample=0.6, \n",
    "                         eta=0.1,\n",
    "                         seed=10)\n",
    "    model.set_params(**p)\n",
    "    model.fit(X_train, \n",
    "              y_train, \n",
    "              eval_metric='rmse', \n",
    "              eval_set=[(X_train, y_train), (X_val, y_val)], \n",
    "              verbose=True, \n",
    "              early_stopping_rounds=20)\n",
    "    pre_val = model.predict(X_val)\n",
    "    score = mean_squared_error(y_val, pre_val)\n",
    "    print('round {}: {:.4f}'.format(i+1, score))\n",
    "    print('params: {}'.format(p))\n",
    "    print('\\n')\n",
    "    if score < best_score:\n",
    "        best_score = score\n",
    "        best_param = p\n",
    "\n",
    "print(best_score)\n",
    "print(best_param)"
   ]
  },
  {
   "cell_type": "code",
   "execution_count": null,
   "metadata": {},
   "outputs": [],
   "source": []
  },
  {
   "cell_type": "code",
   "execution_count": null,
   "metadata": {},
   "outputs": [],
   "source": []
  },
  {
   "cell_type": "code",
   "execution_count": null,
   "metadata": {},
   "outputs": [],
   "source": []
  },
  {
   "cell_type": "code",
   "execution_count": 96,
   "metadata": {},
   "outputs": [],
   "source": [
    "X_train = data.loc[data.time < '2019-4-3 01'].drop(features_to_drop, axis=1)\n",
    "y_train = data.loc[data.time < '2019-4-3 01']['target']\n",
    "X_test = data.loc[data.time >= '2019-4-3 01'].drop(features_to_drop, axis=1)"
   ]
  },
  {
   "cell_type": "code",
   "execution_count": 97,
   "metadata": {
    "scrolled": true
   },
   "outputs": [
    {
     "name": "stdout",
     "output_type": "stream",
     "text": [
      "[0]\tvalidation_0-rmse:0.86222\n",
      "Will train until validation_0-rmse hasn't improved in 20 rounds.\n",
      "[1]\tvalidation_0-rmse:0.78641\n",
      "[2]\tvalidation_0-rmse:0.72018\n",
      "[3]\tvalidation_0-rmse:0.65856\n",
      "[4]\tvalidation_0-rmse:0.60881\n",
      "[5]\tvalidation_0-rmse:0.55922\n",
      "[6]\tvalidation_0-rmse:0.51365\n",
      "[7]\tvalidation_0-rmse:0.47422\n",
      "[8]\tvalidation_0-rmse:0.43815\n",
      "[9]\tvalidation_0-rmse:0.40658\n",
      "[10]\tvalidation_0-rmse:0.37841\n",
      "[11]\tvalidation_0-rmse:0.35356\n",
      "[12]\tvalidation_0-rmse:0.33052\n",
      "[13]\tvalidation_0-rmse:0.31036\n",
      "[14]\tvalidation_0-rmse:0.29408\n",
      "[15]\tvalidation_0-rmse:0.27810\n",
      "[16]\tvalidation_0-rmse:0.26260\n",
      "[17]\tvalidation_0-rmse:0.24998\n",
      "[18]\tvalidation_0-rmse:0.23803\n",
      "[19]\tvalidation_0-rmse:0.22741\n",
      "[20]\tvalidation_0-rmse:0.21947\n",
      "[21]\tvalidation_0-rmse:0.21099\n",
      "[22]\tvalidation_0-rmse:0.20257\n",
      "[23]\tvalidation_0-rmse:0.19577\n",
      "[24]\tvalidation_0-rmse:0.18895\n",
      "[25]\tvalidation_0-rmse:0.18381\n",
      "[26]\tvalidation_0-rmse:0.17907\n",
      "[27]\tvalidation_0-rmse:0.17490\n",
      "[28]\tvalidation_0-rmse:0.17070\n",
      "[29]\tvalidation_0-rmse:0.16635\n"
     ]
    },
    {
     "data": {
      "text/plain": [
       "XGBRegressor(base_score=0.5, booster='gbtree', colsample_bylevel=1,\n",
       "             colsample_bynode=1, colsample_bytree=0.7, eta=0.1, gamma=0,\n",
       "             gpu_id=-1, importance_type='gain', interaction_constraints='',\n",
       "             learning_rate=0.100000001, max_delta_step=0, max_depth=7,\n",
       "             min_child_weight=0.5, missing=nan, monotone_constraints='()',\n",
       "             n_estimators=30, n_jobs=0, num_parallel_tree=1, random_state=10,\n",
       "             reg_alpha=0, reg_lambda=1, scale_pos_weight=1, seed=10,\n",
       "             subsample=0.6, tree_method='exact', validate_parameters=1,\n",
       "             verbosity=None)"
      ]
     },
     "execution_count": 97,
     "metadata": {},
     "output_type": "execute_result"
    }
   ],
   "source": [
    "model = XGBRegressor(max_depth=7,\n",
    "                     n_estimators=30,\n",
    "                     min_child_weight=0.5, \n",
    "                     colsample_bytree=0.7, \n",
    "                     subsample=0.6, \n",
    "                     eta=0.1,\n",
    "                     seed=10)\n",
    "\n",
    "model.fit(X_train, \n",
    "          y_train, \n",
    "          eval_metric='rmse', \n",
    "          eval_set=[(X_train, y_train)], \n",
    "          verbose=True, \n",
    "          early_stopping_rounds=20)"
   ]
  },
  {
   "cell_type": "code",
   "execution_count": 98,
   "metadata": {},
   "outputs": [],
   "source": [
    "y_test = model.predict(X_test)\n",
    "submission = pd.DataFrame({'time': test.timestamp, \n",
    "                           'temperature': -y_test+test.temp_out})\n",
    "submission.to_csv('xgb_submission.csv', index=False)"
   ]
  },
  {
   "cell_type": "code",
   "execution_count": 99,
   "metadata": {},
   "outputs": [
    {
     "data": {
      "text/plain": [
       "1.2472251613046077"
      ]
     },
     "execution_count": 99,
     "metadata": {},
     "output_type": "execute_result"
    }
   ],
   "source": [
    "mean_squared_error(submission.temperature, test.temp_out)"
   ]
  },
  {
   "cell_type": "code",
   "execution_count": null,
   "metadata": {},
   "outputs": [],
   "source": []
  }
 ],
 "metadata": {
  "kernelspec": {
   "display_name": "Python 3",
   "language": "python",
   "name": "python3"
  },
  "language_info": {
   "codemirror_mode": {
    "name": "ipython",
    "version": 3
   },
   "file_extension": ".py",
   "mimetype": "text/x-python",
   "name": "python",
   "nbconvert_exporter": "python",
   "pygments_lexer": "ipython3",
   "version": "3.7.6"
  },
  "toc-autonumbering": true,
  "toc-showcode": false,
  "toc-showmarkdowntxt": false
 },
 "nbformat": 4,
 "nbformat_minor": 4
}
