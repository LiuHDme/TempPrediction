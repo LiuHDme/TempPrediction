{
 "cells": [
  {
   "cell_type": "code",
   "execution_count": 6,
   "metadata": {},
   "outputs": [],
   "source": [
    "import pandas as pd\n",
    "import numpy as np\n",
    "import seaborn as sns\n",
    "import matplotlib.pyplot as plt\n",
    "import sklearn.preprocessing as preprocessing\n",
    "from sklearn.model_selection import ParameterGrid\n",
    "from sklearn.metrics import mean_squared_error, mean_absolute_error\n",
    "from datetime import date, timedelta\n",
    "from tqdm import tqdm\n",
    "%matplotlib inline\n",
    "sns.set_style('dark')"
   ]
  },
  {
   "cell_type": "code",
   "execution_count": 7,
   "metadata": {},
   "outputs": [],
   "source": [
    "train = pd.read_csv('Data/train.csv')\n",
    "test = pd.read_csv('Data/test.csv')\n",
    "train.columns = ['timestamp', 'year', 'month', 'day', 'hour', 'minute', 'second', 'temp_out', 'hum_out', 'air_out', 'hum_in', 'air_in', 'temp_in']\n",
    "test.columns = ['timestamp', 'year', 'month', 'day', 'hour', 'minute', 'second', 'temp_out', 'hum_out', 'air_out', 'hum_in', 'air_in']\n",
    "train['time'] = pd.to_datetime(train[['year', 'month', 'day', 'hour', 'minute']])\n",
    "test['time'] = pd.to_datetime(test[['year', 'month', 'day', 'hour', 'minute']])"
   ]
  },
  {
   "cell_type": "markdown",
   "metadata": {},
   "source": [
    "前10天：3.14 01:00 ~ 3.24 00:59  \n",
    "中间10天：3.24 1:00 ~ 4.3 00:59  \n",
    "后10天：4.3 00:59 ~ 4.13 00:59"
   ]
  },
  {
   "cell_type": "markdown",
   "metadata": {},
   "source": [
    "# Data Cleaning"
   ]
  },
  {
   "cell_type": "code",
   "execution_count": 8,
   "metadata": {},
   "outputs": [],
   "source": [
    "train = train.loc[train.temp_in.notnull()]"
   ]
  },
  {
   "cell_type": "markdown",
   "metadata": {},
   "source": [
    "## Interpolation"
   ]
  },
  {
   "cell_type": "code",
   "execution_count": 9,
   "metadata": {},
   "outputs": [],
   "source": [
    "date = {'year': [], 'month': [], 'day': [], 'hour': [], 'minute': []}\n",
    "for day in range(14, 32):\n",
    "    for hour in range(0, 24):\n",
    "        for minute in range(0, 60):\n",
    "            date['year'].append(2019)\n",
    "            date['month'].append(3)\n",
    "            date['day'].append(day)\n",
    "            date['hour'].append(hour)\n",
    "            date['minute'].append(minute)\n",
    "            \n",
    "for day in range(1, 14):\n",
    "    for hour in range(0, 24):\n",
    "        for minute in range(0, 60):\n",
    "            date['year'].append(2019)\n",
    "            date['month'].append(4)\n",
    "            date['day'].append(day)\n",
    "            date['hour'].append(hour)\n",
    "            date['minute'].append(minute)\n",
    "\n",
    "full_date = pd.DataFrame(date)\n",
    "full_date['time'] = pd.to_datetime(full_date[['year', 'month', 'day', 'hour', 'minute']])\n",
    "full_train = full_date.loc[(full_date.time >= '2019-3-14 01') & (full_date.time < '2019-4-3 01'), :]\n",
    "\n",
    "train = pd.merge(full_train, train, on=['year', 'month', 'day', 'hour', 'minute', 'time'], how='left')\n",
    "train.drop_duplicates(['month', 'day', 'hour', 'minute'], inplace=True)\n",
    "train.reset_index(inplace=True, drop=True)"
   ]
  },
  {
   "cell_type": "markdown",
   "metadata": {},
   "source": [
    "## Fill NaN"
   ]
  },
  {
   "cell_type": "code",
   "execution_count": 10,
   "metadata": {},
   "outputs": [
    {
     "name": "stderr",
     "output_type": "stream",
     "text": [
      "100%|██████████| 6/6 [01:00<00:00, 10.02s/it]\n"
     ]
    }
   ],
   "source": [
    "# train\n",
    "def fill_na(row, col):\n",
    "    if pd.isna(row[col]):\n",
    "        # 先看看前一分钟有没有\n",
    "        time = row.time - pd.Timedelta('1 minute')\n",
    "        pre = train.loc[train.time == time]\n",
    "        if len(pre) != 0 and pd.notna(pre[col].values[0]):\n",
    "            return pre[col].values[0]\n",
    "        else:\n",
    "            # 再看昨天有没有\n",
    "            time = row.time - pd.Timedelta('1 day')\n",
    "            pre = train.loc[train.time == time]\n",
    "            if len(pre) != 0 and pd.notna(pre[col].values[0]):\n",
    "                return pre[col].values[0]\n",
    "            else:\n",
    "                # 再看看前天有没有\n",
    "                time = row.time - pd.Timedelta('2 day')\n",
    "                pre = train.loc[train.time == time]\n",
    "                if len(pre) != 0 and pd.notna(pre[col].values[0]):\n",
    "                    return pre[col].values[0]\n",
    "                else:\n",
    "                    # 否则直接找上一个非空值\n",
    "                    pre = train.loc[(train.time < row.time) & (pd.notna(train[col]))]\n",
    "                    return pre[col].values[0]\n",
    "            \n",
    "    return row[col]\n",
    "\n",
    "train.drop_duplicates(['month', 'day', 'hour', 'minute'], inplace=True)\n",
    "\n",
    "for feat in tqdm(['temp_out', 'hum_out', 'air_out', 'hum_in', 'air_in', 'temp_in']):\n",
    "    train[feat] = train.apply(fill_na, axis=1, args=(feat,))\n",
    "\n",
    "train['target'] = train['temp_in'] - train['temp_out']"
   ]
  },
  {
   "cell_type": "code",
   "execution_count": 11,
   "metadata": {},
   "outputs": [
    {
     "name": "stderr",
     "output_type": "stream",
     "text": [
      "100%|██████████| 5/5 [00:00<00:00, 20.48it/s]\n"
     ]
    }
   ],
   "source": [
    "# test\n",
    "def avg_pre_next(row, col):\n",
    "    if pd.isna(row[col]):\n",
    "        pre_val = test.loc[test.time < row.time].iloc[-1][col]\n",
    "        next_val = test.loc[test.time > row.time].iloc[0][col]\n",
    "        return (pre_val + next_val) / 2\n",
    "    return row[col]\n",
    "\n",
    "for feat in tqdm(['temp_out', 'hum_out', 'air_out', 'hum_in', 'air_in']):\n",
    "    test[feat] = test.apply(avg_pre_next, axis=1, args=(feat,))"
   ]
  },
  {
   "cell_type": "markdown",
   "metadata": {},
   "source": [
    "## Correct Outliers"
   ]
  },
  {
   "cell_type": "markdown",
   "metadata": {},
   "source": [
    "### air"
   ]
  },
  {
   "cell_type": "code",
   "execution_count": null,
   "metadata": {},
   "outputs": [],
   "source": [
    "fig = plt.figure(figsize=(18,10))\n",
    "plt.subplot(2,2,1)\n",
    "sns.boxplot(x=train.air_in)\n",
    "plt.title('train air_in')\n",
    "plt.subplot(2,2,2)\n",
    "sns.boxplot(x=train.air_out)\n",
    "plt.title('train air_out')\n",
    "plt.subplot(2,2,3)\n",
    "sns.boxplot(x=test.air_in)\n",
    "plt.title('test air_in')\n",
    "plt.subplot(2,2,4)\n",
    "sns.boxplot(x=test.air_out)\n",
    "plt.title('test air_out')"
   ]
  },
  {
   "cell_type": "code",
   "execution_count": null,
   "metadata": {},
   "outputs": [],
   "source": [
    "# 用上一分钟和下一分钟的平均值代替异常值\n",
    "def correct_outlier(row, col, low, high, df):\n",
    "    if row[col] < low or row[col] > high:\n",
    "        time = row.time\n",
    "        pre_val = df.loc[(df.time < time) & (df[col] >= low) & (df[col] <= high)]\n",
    "        pre_val = pre_val.iloc[-1][col]\n",
    "        next_val = df.loc[(df.time > time) & (df[col] >= low) & (df[col] <= high)]\n",
    "        next_val = next_val.iloc[0][col]\n",
    "        return (pre_val + next_val) / 2\n",
    "    return row[col]\n",
    "\n",
    "train.air_in = train.apply(correct_outlier, axis=1, args=('air_in', 965, 1000, train))\n",
    "test.air_in = test.apply(correct_outlier, axis=1, args=('air_in', 500, 1000, test))\n",
    "train.air_out = train.apply(correct_outlier, axis=1, args=('air_out', 965, 1000, train))\n",
    "test.air_out = test.apply(correct_outlier, axis=1, args=('air_out', 960, 1000, test))"
   ]
  },
  {
   "cell_type": "code",
   "execution_count": null,
   "metadata": {},
   "outputs": [],
   "source": [
    "fig = plt.figure(figsize=(18, 12))\n",
    "plt.subplot(3, 2, 1)\n",
    "sns.lineplot(data=train.loc[train.time < '2019-3-24 01'].air_in)\n",
    "plt.title('3.14–3.24 air_in')\n",
    "plt.subplot(3, 2, 2)\n",
    "sns.lineplot(data=train.loc[train.time < '2019-3-24 01'].air_out)\n",
    "plt.title('3.14–3.24 air_out')\n",
    "plt.subplot(3, 2, 3)\n",
    "sns.lineplot(data=train.loc[train.time >= '2019-3-24 01'].air_in)\n",
    "plt.title('3.24-4.3 air_in')\n",
    "plt.subplot(3, 2, 4)\n",
    "sns.lineplot(data=train.loc[train.time >= '2019-3-24 01'].air_out)\n",
    "plt.title('3.24–4.3 air_out')\n",
    "plt.subplot(3, 2, 5)\n",
    "sns.lineplot(data=test.air_in)\n",
    "plt.title('4.3-4.13 air_in')\n",
    "plt.subplot(3, 2, 6)\n",
    "sns.lineplot(data=test.air_out)\n",
    "plt.title('4.3–4.13 air_out')"
   ]
  },
  {
   "cell_type": "code",
   "execution_count": null,
   "metadata": {},
   "outputs": [],
   "source": [
    "plt.figure(figsize=(15,5))\n",
    "plt.subplot(1,2,1)\n",
    "sns.kdeplot(data=train.loc[train.time < '2019-3-24 01'].air_in, shade=True, label='3.14–3.24 air_in')\n",
    "sns.kdeplot(data=train.loc[train.time >= '2019-3-24 01'].air_in, shade=True, label='3.24–4.3 air_in')\n",
    "sns.kdeplot(data=test.air_in, shade=True, label='4.3-4.13 air_in')\n",
    "plt.subplot(1,2,2)\n",
    "sns.kdeplot(data=train.loc[train.time < '2019-3-24 01'].air_out, shade=True, label='3.14–3.24 air_out')\n",
    "sns.kdeplot(data=train.loc[train.time >= '2019-3-24 01'].air_out, shade=True, label='3.24–4.3 air_out')\n",
    "sns.kdeplot(data=test.air_out, shade=True, label='4.3–4.13 air_out')"
   ]
  },
  {
   "cell_type": "markdown",
   "metadata": {},
   "source": [
    "### hum"
   ]
  },
  {
   "cell_type": "code",
   "execution_count": null,
   "metadata": {},
   "outputs": [],
   "source": [
    "fig = plt.figure(figsize=(18,10))\n",
    "plt.subplot(2,2,1)\n",
    "sns.boxplot(x=train.hum_in)\n",
    "plt.title('train hum_in')\n",
    "plt.subplot(2,2,2)\n",
    "sns.boxplot(x=train.hum_out)\n",
    "plt.title('train hum_out')\n",
    "plt.subplot(2,2,3)\n",
    "sns.boxplot(x=test.hum_in)\n",
    "plt.title('test hum_in')\n",
    "plt.subplot(2,2,4)\n",
    "sns.boxplot(x=test.hum_out)\n",
    "plt.title('test hum_out')"
   ]
  },
  {
   "cell_type": "code",
   "execution_count": null,
   "metadata": {},
   "outputs": [],
   "source": [
    "fig = plt.figure(figsize=(18, 12))\n",
    "plt.subplot(3, 2, 1)\n",
    "sns.lineplot(data=train.loc[train.time < '2019-3-24 01'].hum_in)\n",
    "plt.title('3.14–3.24 hum_in')\n",
    "plt.subplot(3, 2, 2)\n",
    "sns.lineplot(data=train.loc[train.time < '2019-3-24 01'].hum_out)\n",
    "plt.title('3.14–3.24 hum_out')\n",
    "plt.subplot(3, 2, 3)\n",
    "sns.lineplot(data=train.loc[train.time >= '2019-3-24 01'].hum_in)\n",
    "plt.title('3.24-4.3 hum_in')\n",
    "plt.subplot(3, 2, 4)\n",
    "sns.lineplot(data=train.loc[train.time >= '2019-3-24 01'].hum_out)\n",
    "plt.title('3.24–4.3 hum_out')\n",
    "plt.subplot(3, 2, 5)\n",
    "sns.lineplot(data=test.hum_in)\n",
    "plt.title('4.3-4.13 hum_in')\n",
    "plt.subplot(3, 2, 6)\n",
    "sns.lineplot(data=test.hum_out)\n",
    "plt.title('4.3–4.13 hum_out')"
   ]
  },
  {
   "cell_type": "code",
   "execution_count": null,
   "metadata": {},
   "outputs": [],
   "source": [
    "plt.figure(figsize=(15,5))\n",
    "plt.subplot(1,2,1)\n",
    "sns.kdeplot(data=train.loc[train.time < '2019-3-24 01'].hum_in, shade=True, label='3.14–3.24 hum_in')\n",
    "sns.kdeplot(data=train.loc[train.time >= '2019-3-24 01'].hum_in, shade=True, label='3.24–4.3 hum_in')\n",
    "sns.kdeplot(data=test.hum_in, shade=True, label='4.3-4.13 hum_in')\n",
    "plt.subplot(1,2,2)\n",
    "sns.kdeplot(data=train.loc[train.time < '2019-3-24 01'].hum_out, shade=True, label='3.14–3.24 hum_out')\n",
    "sns.kdeplot(data=train.loc[train.time >= '2019-3-24 01'].hum_out, shade=True, label='3.24–4.3 hum_out')\n",
    "sns.kdeplot(data=test.hum_out, shade=True, label='4.3–4.13 hum_out')"
   ]
  },
  {
   "cell_type": "markdown",
   "metadata": {},
   "source": [
    "### temp"
   ]
  },
  {
   "cell_type": "code",
   "execution_count": null,
   "metadata": {},
   "outputs": [],
   "source": [
    "fig = plt.figure(figsize=(18, 12))\n",
    "plt.subplot(3, 2, 1)\n",
    "sns.lineplot(data=train.loc[train.time < '2019-3-24 01'].temp_in)\n",
    "plt.title('3.14–3.24 temp_in')\n",
    "plt.subplot(3, 2, 2)\n",
    "sns.lineplot(data=train.loc[train.time < '2019-3-24 01'].temp_out)\n",
    "plt.title('3.14–3.24 temp_out')\n",
    "plt.subplot(3, 2, 3)\n",
    "sns.lineplot(data=train.loc[train.time >= '2019-3-24 01'].temp_in)\n",
    "plt.title('3.24-4.3 temp_in')\n",
    "plt.subplot(3, 2, 4)\n",
    "sns.lineplot(data=train.loc[train.time >= '2019-3-24 01'].temp_out)\n",
    "plt.title('3.24–4.3 temp_out')\n",
    "plt.subplot(3, 2, 6)\n",
    "sns.lineplot(data=test.temp_out)\n",
    "plt.title('4.3–4.13 temp_out')"
   ]
  },
  {
   "cell_type": "code",
   "execution_count": null,
   "metadata": {},
   "outputs": [],
   "source": [
    "plt.figure(figsize=(15,5))\n",
    "plt.subplot(1,2,1)\n",
    "sns.kdeplot(data=train.loc[train.time < '2019-3-24 01'].temp_in, shade=True, label='3.14–3.24 temp_in')\n",
    "sns.kdeplot(data=train.loc[train.time >= '2019-3-24 01'].temp_in, shade=True, label='3.24–4.3 temp_in')\n",
    "plt.subplot(1,2,2)\n",
    "sns.kdeplot(data=train.loc[train.time < '2019-3-24 01'].temp_out, shade=True, label='3.14–3.24 temp_out')\n",
    "sns.kdeplot(data=train.loc[train.time >= '2019-3-24 01'].temp_out, shade=True, label='3.24–4.3 temp_out')\n",
    "sns.kdeplot(data=test.temp_out, shade=True, label='4.3–4.13 temp_out')"
   ]
  },
  {
   "cell_type": "markdown",
   "metadata": {},
   "source": [
    "# Feature Engineering"
   ]
  },
  {
   "cell_type": "code",
   "execution_count": 15,
   "metadata": {},
   "outputs": [],
   "source": [
    "matrix = pd.concat([train, test], axis=0, ignore_index=True)"
   ]
  },
  {
   "cell_type": "markdown",
   "metadata": {},
   "source": [
    "## Lag features"
   ]
  },
  {
   "cell_type": "code",
   "execution_count": 16,
   "metadata": {},
   "outputs": [
    {
     "name": "stderr",
     "output_type": "stream",
     "text": [
      "100%|██████████| 5/5 [00:00<00:00, 13.13it/s]\n"
     ]
    }
   ],
   "source": [
    "# 基本聚合特征\n",
    "features = ['temp_out', 'hum_out', 'air_out', 'hum_in', 'air_in']\n",
    "group_feats = []\n",
    "for f in tqdm(features):\n",
    "    matrix['MDH_{}_medi'.format(f)] = matrix.groupby(['month','day','hour'])[f].transform('median')\n",
    "    matrix['MDH_{}_mean'.format(f)] = matrix.groupby(['month','day','hour'])[f].transform('mean')\n",
    "    matrix['MDH_{}_max'.format(f)] = matrix.groupby(['month','day','hour'])[f].transform('max')\n",
    "    matrix['MDH_{}_min'.format(f)] = matrix.groupby(['month','day','hour'])[f].transform('min')\n",
    "    matrix['MDH_{}_std'.format(f)] = matrix.groupby(['month','day','hour'])[f].transform('std')\n",
    "\n",
    "    group_feats.append('MDH_{}_medi'.format(f))\n",
    "    group_feats.append('MDH_{}_mean'.format(f))"
   ]
  },
  {
   "cell_type": "code",
   "execution_count": 17,
   "metadata": {},
   "outputs": [
    {
     "name": "stderr",
     "output_type": "stream",
     "text": [
      "100%|██████████| 15/15 [00:00<00:00, 38.35it/s]\n"
     ]
    }
   ],
   "source": [
    "# 基本交叉特征\n",
    "for f1 in tqdm(features + group_feats):\n",
    "    for f2 in features + group_feats:\n",
    "        if f1 != f2:\n",
    "            colname = '{}_{}_ratio'.format(f1, f2)\n",
    "            matrix[colname] = matrix[f1].values / matrix[f2].values\n",
    "\n",
    "matrix = matrix.fillna(method='bfill')"
   ]
  },
  {
   "cell_type": "code",
   "execution_count": 18,
   "metadata": {},
   "outputs": [
    {
     "name": "stderr",
     "output_type": "stream",
     "text": [
      "100%|██████████| 30/30 [00:01<00:00, 21.75it/s]\n",
      "100%|██████████| 30/30 [00:01<00:00, 23.91it/s]\n",
      "100%|██████████| 30/30 [00:01<00:00, 20.58it/s]\n",
      "100%|██████████| 30/30 [00:01<00:00, 22.05it/s]\n",
      "100%|██████████| 30/30 [00:01<00:00, 24.38it/s]\n",
      "100%|██████████| 30/30 [00:01<00:00, 24.41it/s]\n"
     ]
    }
   ],
   "source": [
    "# 历史信息提取\n",
    "matrix['dt'] = matrix['day'].values + (matrix['month'].values - 3) * 31\n",
    "\n",
    "features = features + ['temp_in']\n",
    "for f in features:\n",
    "    tmp_df = pd.DataFrame()\n",
    "    for t in tqdm(range(15, 45)):\n",
    "        tmp = matrix[matrix['dt'] < t].groupby(['hour'])[f].agg({'mean'}).reset_index()\n",
    "        tmp.columns = ['hour', 'hit_{}_mean'.format(f)]\n",
    "        tmp['dt'] = t\n",
    "        tmp_df = tmp_df.append(tmp)\n",
    "    \n",
    "    matrix = matrix.merge(tmp_df, on=['dt', 'hour'], how='left')\n",
    "    \n",
    "matrix = matrix.fillna(method='bfill')"
   ]
  },
  {
   "cell_type": "code",
   "execution_count": 19,
   "metadata": {},
   "outputs": [],
   "source": [
    "# lag features\n",
    "features = ['temp_out', 'hum_out', 'air_out', 'hum_in', 'air_in']\n",
    "lags = [1, 24]\n",
    "\n",
    "for l in tqdm(lags):\n",
    "    tmp = matrix[features+['time']].copy()\n",
    "    tmp.time += pd.Timedelta(str(l) + ' hour')\n",
    "    col_names = ['lag_'+str(l)+'_'+f for f in features]\n",
    "    tmp.columns = col_names + ['time']\n",
    "    matrix = pd.merge(matrix, tmp, on='time', how='left')\n",
    "    del tmp\n",
    "\n",
    "matrix.fillna(method='ffill', inplace=True)"
   ]
  },
  {
   "cell_type": "code",
   "execution_count": 23,
   "metadata": {},
   "outputs": [],
   "source": [
    "# Trend\n",
    "for feat in features:\n",
    "    for n in lags:\n",
    "        matrix['trend_'+str(n)+'_'+feat] = matrix[feat] - matrix['lag_'+str(n)+'_'+feat]\n",
    "\n",
    "matrix.fillna(method='ffill', inplace=True)"
   ]
  },
  {
   "cell_type": "markdown",
   "metadata": {},
   "source": [
    "## Bin features"
   ]
  },
  {
   "cell_type": "code",
   "execution_count": 27,
   "metadata": {},
   "outputs": [
    {
     "name": "stderr",
     "output_type": "stream",
     "text": [
      "100%|██████████| 5/5 [00:12<00:00,  2.52s/it]\n",
      "100%|██████████| 5/5 [00:17<00:00,  3.54s/it]\n",
      "100%|██████████| 5/5 [00:21<00:00,  4.23s/it]\n",
      "100%|██████████| 5/5 [00:22<00:00,  4.57s/it]\n"
     ]
    }
   ],
   "source": [
    "features = ['temp_out', 'hum_out', 'air_out', 'hum_in', 'air_in']\n",
    "for f in features:\n",
    "    matrix[f+'_20_bin'] = pd.cut(matrix[f], 20, duplicates='drop').apply(lambda x:x.left).astype(int)\n",
    "    matrix[f+'_50_bin'] = pd.cut(matrix[f], 50, duplicates='drop').apply(lambda x:x.left).astype(int)\n",
    "    matrix[f+'_100_bin'] = pd.cut(matrix[f], 100, duplicates='drop').apply(lambda x:x.left).astype(int)\n",
    "    matrix[f+'_200_bin'] = pd.cut(matrix[f], 200, duplicates='drop').apply(lambda x:x.left).astype(int)\n",
    "    \n",
    "features_20_bin = [f + '_20_bin' for f in features]\n",
    "for f1 in tqdm(features_20_bin):\n",
    "    for f2 in features:\n",
    "        matrix['{}_{}_medi'.format(f1,f2)] = matrix.groupby([f1])[f2].transform('median')\n",
    "        matrix['{}_{}_mean'.format(f1,f2)] = matrix.groupby([f1])[f2].transform('mean')\n",
    "        matrix['{}_{}_max'.format(f1,f2)] = matrix.groupby([f1])[f2].transform('max')\n",
    "        matrix['{}_{}_min'.format(f1,f2)] = matrix.groupby([f1])[f2].transform('min')\n",
    "\n",
    "features_50_bin = [f + '_50_bin' for f in features]\n",
    "for f1 in tqdm(features_50_bin):\n",
    "    for f2 in features:\n",
    "        matrix['{}_{}_medi'.format(f1,f2)] = matrix.groupby([f1])[f2].transform('median')\n",
    "        matrix['{}_{}_mean'.format(f1,f2)] = matrix.groupby([f1])[f2].transform('mean')\n",
    "        matrix['{}_{}_max'.format(f1,f2)] = matrix.groupby([f1])[f2].transform('max')\n",
    "        matrix['{}_{}_min'.format(f1,f2)] = matrix.groupby([f1])[f2].transform('min')\n",
    "\n",
    "features_100_bin = [f + '_100_bin' for f in features]\n",
    "for f1 in tqdm(features_100_bin):\n",
    "    for f2 in features:\n",
    "        matrix['{}_{}_medi'.format(f1,f2)] = matrix.groupby([f1])[f2].transform('median')\n",
    "        matrix['{}_{}_mean'.format(f1,f2)] = matrix.groupby([f1])[f2].transform('mean')\n",
    "        matrix['{}_{}_max'.format(f1,f2)] = matrix.groupby([f1])[f2].transform('max')\n",
    "        matrix['{}_{}_min'.format(f1,f2)] = matrix.groupby([f1])[f2].transform('min')\n",
    "\n",
    "features_200_bin = [f + '_200_bin' for f in features]\n",
    "for f1 in tqdm(features_200_bin):\n",
    "    for f2 in features:\n",
    "        matrix['{}_{}_medi'.format(f1,f2)] = matrix.groupby([f1])[f2].transform('median')\n",
    "        matrix['{}_{}_mean'.format(f1,f2)] = matrix.groupby([f1])[f2].transform('mean')\n",
    "        matrix['{}_{}_max'.format(f1,f2)] = matrix.groupby([f1])[f2].transform('max')\n",
    "        matrix['{}_{}_min'.format(f1,f2)] = matrix.groupby([f1])[f2].transform('min')"
   ]
  },
  {
   "cell_type": "markdown",
   "metadata": {},
   "source": [
    "## Rolling features"
   ]
  },
  {
   "cell_type": "code",
   "execution_count": 28,
   "metadata": {},
   "outputs": [
    {
     "name": "stderr",
     "output_type": "stream",
     "text": [
      "100%|██████████| 5/5 [00:03<00:00,  1.61it/s]\n"
     ]
    }
   ],
   "source": [
    "features = ['temp_out', 'hum_out', 'air_out', 'hum_in', 'air_in']\n",
    "lags = [1,3,6,12,24]\n",
    "matrix.set_index('time', inplace=True)\n",
    "\n",
    "for feat in tqdm(features):\n",
    "    for l in lags:\n",
    "        lag_hour = str(l) + 'h'\n",
    "        matrix['mean_'+str(l)+'_hours_'+feat] = matrix[feat].rolling(lag_hour).mean()\n",
    "        matrix['median_'+str(l)+'_hours_'+feat] = matrix[feat].rolling(lag_hour).median()\n",
    "        matrix['max_'+str(l)+'_hours_'+feat] = matrix[feat].rolling(lag_hour).max()\n",
    "        matrix['min_'+str(l)+'_hours_'+feat] = matrix[feat].rolling(lag_hour).min()\n",
    "        matrix['std_'+str(l)+'_hours_'+feat] = matrix[feat].rolling(lag_hour).std()\n",
    "        matrix['skew_'+str(l)+'_hours_'+feat] = matrix[feat].rolling(lag_hour).skew()\n",
    "        matrix['q1_'+str(l)+'_hours_'+feat] = matrix[feat].rolling(lag_hour).quantile(quantile=0.25)\n",
    "        matrix['q3_'+str(l)+'_hours_'+feat] = matrix[feat].rolling(lag_hour).median(quantile=0.75)\n",
    "        matrix['var_'+str(l)+'_hours_'+feat] = matrix['std_'+str(l)+'_hours_'+feat] / matrix['mean_'+str(l)+'_hours_'+feat]\n",
    "        \n",
    "matrix.reset_index(inplace=True)"
   ]
  },
  {
   "cell_type": "markdown",
   "metadata": {},
   "source": [
    "## Save data"
   ]
  },
  {
   "cell_type": "code",
   "execution_count": 29,
   "metadata": {},
   "outputs": [],
   "source": [
    "matrix.to_pickle('data.pkl')"
   ]
  },
  {
   "cell_type": "markdown",
   "metadata": {},
   "source": [
    "# Predict trend with linear model"
   ]
  },
  {
   "cell_type": "code",
   "execution_count": null,
   "metadata": {},
   "outputs": [],
   "source": [
    "# from sklearn.linear_model import LinearRegression\n",
    "\n",
    "# data = pd.read_pickle('data.pkl')\n",
    "# features = ['month', 'day', 'hour', 'minute', 'temp_out', 'hum_out', 'air_out', 'hum_in', 'air_in']\n",
    "# num = len(train)\n",
    "# X_train = data[:num][features]\n",
    "# y_train = data[:num]['temp_in']\n",
    "# X_test = data[num:][features]\n",
    "# reg = LinearRegression().fit(X_train, y_train)"
   ]
  },
  {
   "cell_type": "code",
   "execution_count": null,
   "metadata": {},
   "outputs": [],
   "source": [
    "# pred_train_lr = reg.predict(X_train)\n",
    "# pred_test_lr = reg.predict(X_test)"
   ]
  },
  {
   "cell_type": "markdown",
   "metadata": {},
   "source": [
    "# Modeling"
   ]
  },
  {
   "cell_type": "code",
   "execution_count": null,
   "metadata": {},
   "outputs": [],
   "source": [
    "data = pd.read_pickle('data.pkl')"
   ]
  },
  {
   "cell_type": "code",
   "execution_count": null,
   "metadata": {},
   "outputs": [],
   "source": [
    "features_to_drop = ['timestamp', 'year', 'second', 'time', 'target', 'temp_in']\n",
    "\n",
    "num = int(len(train)*0.8)\n",
    "X_train = data.iloc[:num].drop(features_to_drop, axis=1)\n",
    "y_train = data.iloc[:num]['target']\n",
    "# y_train = data.iloc[:num]['temp_in'] - pred_train_lr[:num]\n",
    "X_val = data.iloc[num:len(train)].drop(features_to_drop, axis=1)\n",
    "y_val = data.iloc[num:len(train)]['target']\n",
    "# y_val = data.iloc[num:len(train)]['temp_in'] - pred_train_lr[num:len(train)]\n",
    "X_test = data.loc[data.time >= '2019-4-3 01'].drop(features_to_drop, axis=1)"
   ]
  },
  {
   "cell_type": "markdown",
   "metadata": {},
   "source": [
    "## XGBoost"
   ]
  },
  {
   "cell_type": "code",
   "execution_count": null,
   "metadata": {},
   "outputs": [],
   "source": [
    "import xgboost as xgb\n",
    "from xgboost import XGBRegressor\n",
    "from xgboost import plot_importance"
   ]
  },
  {
   "cell_type": "code",
   "execution_count": null,
   "metadata": {
    "scrolled": true
   },
   "outputs": [],
   "source": [
    "# # grid search\n",
    "\n",
    "# params = {\n",
    "#     'eta': [0.05, 0.1, 0.2],\n",
    "#     'max_depth': [7,8,9],\n",
    "#     'colsample_bytree': [0.6,0.7],\n",
    "#     'subsample': [0.6,0.7],\n",
    "#     'min_child_weight': [4,5,6]\n",
    "# }\n",
    "\n",
    "# best_score, best_param = 100, None\n",
    "\n",
    "# for i, p in enumerate(ParameterGrid(params)):\n",
    "#     model = XGBRegressor(max_depth=9,\n",
    "#                          n_estimators=100,\n",
    "#                          min_child_weight=0.5, \n",
    "#                          colsample_bytree=0.6, \n",
    "#                          subsample=0.6, \n",
    "#                          eta=0.1,\n",
    "#                          seed=10)\n",
    "#     model.set_params(**p)\n",
    "#     model.fit(X_train, \n",
    "#               y_train, \n",
    "#               eval_metric='mae', \n",
    "#               eval_set=[(X_train, y_train), (X_val, y_val)], \n",
    "#               verbose=False, \n",
    "#               early_stopping_rounds=20)\n",
    "#     pre_val = model.predict(X_val)\n",
    "#     score = mean_absolute_error(y_val, pre_val)\n",
    "#     print('round {}: {:.4f}'.format(i+1, score))\n",
    "#     print('params: {}'.format(p))\n",
    "#     print('\\n')\n",
    "#     if score < best_score:\n",
    "#         best_score = score\n",
    "#         best_param = p\n",
    "\n",
    "# print(best_score)\n",
    "# print(best_param)"
   ]
  },
  {
   "cell_type": "code",
   "execution_count": null,
   "metadata": {},
   "outputs": [],
   "source": [
    "%%time\n",
    "\n",
    "model = XGBRegressor(max_depth=8,\n",
    "                     n_estimators=50000,\n",
    "                     min_child_weight=5, \n",
    "                     colsample_bytree=0.5, \n",
    "                     subsample=0.5, \n",
    "                     eta=0.001,\n",
    "                     seed=2020, \n",
    "                     n_jobs=2)\n",
    "model.fit(X_train, \n",
    "          y_train, \n",
    "          eval_metric='rmse', \n",
    "          eval_set=[(X_train, y_train), (X_val, y_val)], \n",
    "          verbose=500, \n",
    "          early_stopping_rounds=1000)"
   ]
  },
  {
   "cell_type": "code",
   "execution_count": null,
   "metadata": {},
   "outputs": [],
   "source": [
    "pred_test_xgb = model.predict(X_test, ntree_limit=model.best_ntree_limit)\n",
    "submission = pd.DataFrame({'time': test.timestamp, \n",
    "                           'temperature': test.temp_out + pred_test_xgb})\n",
    "submission.to_csv('submissions/xgb_submission.csv', index=False)"
   ]
  },
  {
   "cell_type": "code",
   "execution_count": null,
   "metadata": {},
   "outputs": [],
   "source": []
  }
 ],
 "metadata": {
  "kernelspec": {
   "display_name": "Python 3",
   "language": "python",
   "name": "python3"
  },
  "language_info": {
   "codemirror_mode": {
    "name": "ipython",
    "version": 3
   },
   "file_extension": ".py",
   "mimetype": "text/x-python",
   "name": "python",
   "nbconvert_exporter": "python",
   "pygments_lexer": "ipython3",
   "version": "3.7.6"
  },
  "toc-autonumbering": true,
  "toc-showcode": false,
  "toc-showmarkdowntxt": false
 },
 "nbformat": 4,
 "nbformat_minor": 4
}
