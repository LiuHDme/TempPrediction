{
 "cells": [
  {
   "cell_type": "markdown",
   "metadata": {},
   "source": [
    "# Setup"
   ]
  },
  {
   "cell_type": "code",
   "execution_count": 1,
   "metadata": {},
   "outputs": [],
   "source": [
    "import pandas as pd\n",
    "import numpy as np\n",
    "import seaborn as sns\n",
    "import matplotlib.pyplot as plt\n",
    "import sklearn.preprocessing as preprocessing\n",
    "from sklearn.model_selection import ParameterGrid\n",
    "from sklearn.metrics import mean_squared_error, mean_absolute_error\n",
    "import tensorflow as tf\n",
    "\n",
    "from datetime import date, timedelta\n",
    "from tqdm import tqdm\n",
    "import time\n",
    "import datetime\n",
    "%matplotlib inline\n",
    "sns.set_style('dark')"
   ]
  },
  {
   "cell_type": "code",
   "execution_count": 2,
   "metadata": {},
   "outputs": [],
   "source": [
    "train_pre = pd.read_csv('Data/初赛/train.csv')\n",
    "test_pre = pd.read_csv('Data/初赛/test.csv')\n",
    "answer_pre = pd.read_csv('Data/初赛/answer.csv')\n",
    "answer_pre.columns = ['timestamp', 'temp_in']\n",
    "train_pre.columns = ['timestamp', 'year', 'month', 'day', 'hour', 'minute', 'second', 'temp_out', 'hum_out', 'air_out', 'hum_in', 'air_in', 'temp_in']\n",
    "test_pre.columns = ['timestamp', 'year', 'month', 'day', 'hour', 'minute', 'second', 'temp_out', 'hum_out', 'air_out', 'hum_in', 'air_in']\n",
    "test_pre = pd.merge(test_pre, answer_pre, on='timestamp', how='left')\n",
    "test_pre.temp_in.fillna(31.5, inplace=True)\n",
    "train_pre['time'] = pd.to_datetime(train_pre[['year', 'month', 'day', 'hour', 'minute']])\n",
    "test_pre['time'] = pd.to_datetime(test_pre[['year', 'month', 'day', 'hour', 'minute']])\n",
    "data_pre = pd.concat([train_pre, test_pre])\n",
    "\n",
    "train_final = pd.read_csv('Data/复赛/train.csv')\n",
    "test_final = pd.read_csv('Data/复赛/test.csv')\n",
    "sample_final = pd.read_csv('Data/复赛/提交样例.csv')\n",
    "train_final.columns = ['timestamp', 'year', 'month', 'day', 'hour', 'minute', 'second', 'temp_out', 'hum_out', 'air_out', 'hum_in', 'air_in', 'temp_in']\n",
    "test_final.columns = ['timestamp', 'year', 'month', 'day', 'hour', 'minute', 'second', 'temp_out', 'hum_out', 'air_out', 'hum_in', 'air_in']\n",
    "sample_final.columns = ['timestamp', 'temp_in']\n",
    "train_final['time'] = pd.to_datetime(train_final[['year', 'month', 'day', 'hour', 'minute']])\n",
    "test_final = pd.merge(sample_final[['timestamp']], test_final, on='timestamp', how='left')\n",
    "# test_final['time'] = pd.to_datetime(test_final[['year', 'month', 'day', 'hour', 'minute']])\n",
    "test_final['time'] = [datetime.datetime.fromtimestamp(x) for x in test_final['timestamp']]\n",
    "test_final['year'] = test_final.time.dt.year\n",
    "test_final['month'] = test_final.time.dt.month\n",
    "test_final['day'] = test_final.time.dt.day\n",
    "test_final['hour'] = test_final.time.dt.hour\n",
    "test_final['minute'] = test_final.time.dt.minute\n",
    "test_final['second'] = test_final.time.dt.second\n"
   ]
  },
  {
   "cell_type": "markdown",
   "metadata": {},
   "source": [
    "Preliminary:\n",
    "\n",
    "- train: 2019-3-14 01:00 ~ 2019-4-3 00:59 per min\n",
    "- test: 2019-4-3 01:00 ~ 2019-4-13 00:57 per 30mins\n",
    "\n",
    "Final:\n",
    "- train: 2020-01-13 00:00 ~ 2020-01-22 23:59 per min\n",
    "- test: 2020-02-01 00:10 ~ 2020-02-05 22:10 per 2hoursto_datetime"
   ]
  },
  {
   "cell_type": "markdown",
   "metadata": {},
   "source": [
    "## 填充每一分钟"
   ]
  },
  {
   "cell_type": "code",
   "execution_count": 3,
   "metadata": {},
   "outputs": [],
   "source": [
    "time = {'year': [], 'month': [], 'day': [], 'hour': [], 'minute': []}\n",
    "for day in range(14, 32):\n",
    "    for hour in range(0, 24):\n",
    "        for minute in range(0, 60):\n",
    "            time['year'].append(2019)\n",
    "            time['month'].append(3)\n",
    "            time['day'].append(day)\n",
    "            time['hour'].append(hour)\n",
    "            time['minute'].append(minute)\n",
    "\n",
    "for day in range(1, 3):\n",
    "    for hour in range(0, 24):\n",
    "        for minute in range(0, 60):\n",
    "            time['year'].append(2019)\n",
    "            time['month'].append(4)\n",
    "            time['day'].append(day)\n",
    "            time['hour'].append(hour)\n",
    "            time['minute'].append(minute)\n",
    "\n",
    "full_time = pd.DataFrame(time)\n",
    "full_time['time'] = pd.to_datetime(full_time[['year', 'month', 'day', 'hour', 'minute']])\n",
    "train_pre_full = full_time.loc[(full_time.time >= '2019-3-14 01') & (full_time.time < '2019-4-3 01'), :]\n",
    "\n",
    "train_pre = pd.merge(train_pre_full, train_pre, on=['year', 'month', 'day', 'hour', 'minute', 'time'], how='left')\n",
    "train_pre.drop(['second'], axis=1, inplace=True)\n",
    "train_pre.drop_duplicates(['month', 'day', 'hour', 'minute'], inplace=True)\n",
    "train_pre.reset_index(inplace=True, drop=True)"
   ]
  },
  {
   "cell_type": "code",
   "execution_count": 4,
   "metadata": {},
   "outputs": [],
   "source": [
    "time = {'year': [], 'month': [], 'day': [], 'hour': [], 'minute': []}\n",
    "for day in range(21, 23):\n",
    "    for hour in range(0, 24):\n",
    "        for minute in range(0, 60):\n",
    "            time['year'].append(2020)\n",
    "            time['month'].append(1)\n",
    "            time['day'].append(day)\n",
    "            time['hour'].append(hour)\n",
    "            time['minute'].append(minute)\n",
    "\n",
    "full_time = pd.DataFrame(time)\n",
    "full_time['time'] = pd.to_datetime(full_time[['year', 'month', 'day', 'hour', 'minute']])\n",
    "\n",
    "# train_final = pd.merge(full_time, train_final, on=['year', 'month', 'day', 'hour', 'minute', 'time'], how='left')\n",
    "train_final = pd.merge(full_time, train_final, on=['year', 'month', 'day', 'hour', 'minute', 'time'], how='outer')\n",
    "train_final.drop(['second'], axis=1, inplace=True)\n",
    "train_final.drop_duplicates(['month', 'day', 'hour', 'minute'], inplace=True)\n",
    "train_final.reset_index(inplace=True, drop=True)"
   ]
  },
  {
   "cell_type": "markdown",
   "metadata": {},
   "source": [
    "## 异常值处理"
   ]
  },
  {
   "cell_type": "code",
   "execution_count": 5,
   "metadata": {},
   "outputs": [],
   "source": [
    "train_pre.fillna(method='ffill', inplace=True)\n",
    "train_final.fillna(method='ffill', inplace=True)"
   ]
  },
  {
   "cell_type": "code",
   "execution_count": 6,
   "metadata": {},
   "outputs": [],
   "source": [
    "for feat in ['hum_out', 'hum_in', 'air_out', 'air_in']:\n",
    "    for df in [train_pre, train_final]:\n",
    "        lower, upper = np.percentile(df[feat], (3, 97))\n",
    "        df.loc[(df[feat] < lower) | (df[feat] > upper), feat] = np.NaN"
   ]
  },
  {
   "cell_type": "code",
   "execution_count": 7,
   "metadata": {},
   "outputs": [],
   "source": [
    "train_pre.fillna(method='ffill', inplace=True)\n",
    "train_final.fillna(method='ffill', inplace=True)\n",
    "test_final.loc[test_final['air_out']==927.1, 'air_out'] = 978.7"
   ]
  },
  {
   "cell_type": "code",
   "execution_count": 8,
   "metadata": {},
   "outputs": [
    {
     "data": {
      "image/png": "[encoded data removed]",
      "text/plain": [
       "<Figure size 1296x576 with 5 Axes>"
      ]
     },
     "metadata": {},
     "output_type": "display_data"
    }
   ],
   "source": [
    "cols = ['air_out', 'air_in', 'hum_out', 'hum_in', 'temp_out']\n",
    "plt.figure(figsize=(18,8))\n",
    "for i in range(5):\n",
    "    plt.subplot(2,3,i+1)\n",
    "    sns.kdeplot(train_pre[cols[i]], shade=True, label='2019 train '+cols[i])\n",
    "    sns.kdeplot(train_final[cols[i]], shade=True, label='2020 train '+cols[i])\n",
    "    sns.kdeplot(test_final[cols[i]], shade=True, label='2020 test '+cols[i])"
   ]
  },
  {
   "cell_type": "markdown",
   "metadata": {},
   "source": [
    "## 手动填充 Test"
   ]
  },
  {
   "cell_type": "code",
   "execution_count": 9,
   "metadata": {},
   "outputs": [],
   "source": [
    "for d in [1,2,3,5]:\n",
    "    for h in range(0, 24, 2):\n",
    "        h_2 = h+2 if h != 22 else 0\n",
    "        d_1 = 22 if h != 22 else 21\n",
    "        d_2 = d if h != 22 else d+1\n",
    "        train_series = train_final[(train_final.time >= '2020-01-{} {}:10'.format(d_1, h)) & (train_final.time < '2020-01-22 {}:10'.format(h_2))][cols]\n",
    "        test_series = test_final[test_final.time == '2020-02-{} {}:10:30'.format(d, h)][cols]\n",
    "        residual = train_series[:1].values - test_series.head(1).values\n",
    "        try:\n",
    "            test_final.loc[(test_final.time > '2020-02-{} {}:10:30'.format(d, h)) & (test_final.time < '2020-02-{} {}:10:30'.format(d_2, h_2)), cols] = (train_series[1:] - residual).values\n",
    "        except:\n",
    "            test_final.loc[(test_final.time > '2020-02-{} {}:10:30'.format(d, h)) & (test_final.time < '2020-02-{} {}:10:30'.format(d_2, h_2)), cols] = (train_series[1:] - residual).values[:109]"
   ]
  },
  {
   "cell_type": "markdown",
   "metadata": {},
   "source": [
    "## 特征工程"
   ]
  },
  {
   "cell_type": "code",
   "execution_count": 10,
   "metadata": {},
   "outputs": [],
   "source": [
    "day = 24*60*60\n",
    "hour = 60*60\n",
    "minute = 60\n",
    "for df in [train_final, test_final]:\n",
    "    df['day sin'] = np.sin(df['timestamp'] * (2 * np.pi / day))\n",
    "    df['day cos'] = np.cos(df['timestamp'] * (2 * np.pi / day))\n",
    "    df['hour sin'] = np.sin(df['timestamp'] * (2 * np.pi / hour))\n",
    "    df['hour cos'] = np.cos(df['timestamp'] * (2 * np.pi / hour))\n",
    "    df['minute sin'] = np.sin(df['timestamp'] * (2 * np.pi / minute))\n",
    "    df['minute cos'] = np.cos(df['timestamp'] * (2 * np.pi / minute))"
   ]
  },
  {
   "cell_type": "code",
   "execution_count": 11,
   "metadata": {},
   "outputs": [],
   "source": [
    "matrix = pd.concat([train_final, test_final])"
   ]
  },
  {
   "cell_type": "code",
   "execution_count": 14,
   "metadata": {},
   "outputs": [
    {
     "name": "stderr",
     "output_type": "stream",
     "text": [
      "100%|██████████| 10/10 [00:00<00:00, 89.16it/s]\n",
      "100%|██████████| 10/10 [00:00<00:00, 120.85it/s]\n",
      "100%|██████████| 10/10 [00:00<00:00, 107.05it/s]\n",
      "100%|██████████| 10/10 [00:00<00:00, 118.07it/s]\n",
      "100%|██████████| 10/10 [00:00<00:00, 124.78it/s]\n",
      "100%|██████████| 10/10 [00:00<00:00, 89.76it/s]\n"
     ]
    }
   ],
   "source": [
    "# 历史信息提取\n",
    "matrix['dt'] = matrix['day'].values + (matrix['month'].values - 1) * 31\n",
    "\n",
    "features = cols + ['temp_in']\n",
    "for f in features:\n",
    "    tmp_df = pd.DataFrame()\n",
    "    for t in tqdm(range(13, 23)):\n",
    "        tmp = matrix[matrix['dt'] < t].groupby(['hour'])[f].agg({'mean'}).reset_index()\n",
    "        tmp.columns = ['hour', 'hit_{}_mean'.format(f)]\n",
    "        tmp['dt'] = t\n",
    "        tmp_df = tmp_df.append(tmp)\n",
    "\n",
    "    matrix = matrix.merge(tmp_df, on=['dt', 'hour'], how='left')\n",
    "\n",
    "matrix = matrix.fillna(method='ffill')"
   ]
  },
  {
   "cell_type": "code",
   "execution_count": 17,
   "metadata": {},
   "outputs": [
    {
     "name": "stderr",
     "output_type": "stream",
     "text": [
      "100%|██████████| 2/2 [00:00<00:00, 39.98it/s]\n"
     ]
    }
   ],
   "source": [
    "# lag features\n",
    "features = ['temp_out', 'hum_out', 'air_out', 'hum_in', 'air_in']\n",
    "lags = [1, 2]\n",
    "\n",
    "for l in tqdm(lags):\n",
    "    tmp = matrix[features+['time']].copy()\n",
    "    tmp.time += pd.Timedelta(str(l) + ' hour')\n",
    "    col_names = ['lag_'+str(l)+'_'+f for f in features]\n",
    "    tmp.columns = col_names + ['time']\n",
    "    matrix = pd.merge(matrix, tmp, on='time', how='left')\n",
    "    del tmp\n",
    "\n",
    "matrix.fillna(method='ffill', inplace=True)"
   ]
  },
  {
   "cell_type": "code",
   "execution_count": 19,
   "metadata": {},
   "outputs": [],
   "source": [
    "# Trend\n",
    "for feat in features:\n",
    "    for n in lags:\n",
    "        matrix['trend_'+str(n)+'_'+feat] = matrix[feat] - matrix['lag_'+str(n)+'_'+feat]\n",
    "\n",
    "matrix.fillna(method='ffill', inplace=True)"
   ]
  },
  {
   "cell_type": "code",
   "execution_count": 23,
   "metadata": {},
   "outputs": [
    {
     "name": "stderr",
     "output_type": "stream",
     "text": [
      "100%|██████████| 5/5 [00:01<00:00,  2.85it/s]\n"
     ]
    }
   ],
   "source": [
    "features = ['temp_out', 'hum_out', 'air_out', 'hum_in', 'air_in']\n",
    "lags = [1,3,6,12,24]\n",
    "matrix.set_index('time', inplace=True)\n",
    "matrix.sort_index(inplace=True)\n",
    "\n",
    "for feat in tqdm(features):\n",
    "    for l in lags:\n",
    "        lag_hour = str(l) + 'h'\n",
    "        matrix['mean_'+str(l)+'_hours_'+feat] = matrix[feat].rolling(lag_hour).mean()\n",
    "        matrix['median_'+str(l)+'_hours_'+feat] = matrix[feat].rolling(lag_hour).median()\n",
    "        matrix['max_'+str(l)+'_hours_'+feat] = matrix[feat].rolling(lag_hour).max()\n",
    "        matrix['min_'+str(l)+'_hours_'+feat] = matrix[feat].rolling(lag_hour).min()\n",
    "        matrix['std_'+str(l)+'_hours_'+feat] = matrix[feat].rolling(lag_hour).std()\n",
    "        matrix['skew_'+str(l)+'_hours_'+feat] = matrix[feat].rolling(lag_hour).skew()\n",
    "        matrix['q1_'+str(l)+'_hours_'+feat] = matrix[feat].rolling(lag_hour).quantile(quantile=0.25)\n",
    "        matrix['q3_'+str(l)+'_hours_'+feat] = matrix[feat].rolling(lag_hour).median(quantile=0.75)\n",
    "        matrix['var_'+str(l)+'_hours_'+feat] = matrix['std_'+str(l)+'_hours_'+feat] / matrix['mean_'+str(l)+'_hours_'+feat]\n",
    "        \n",
    "matrix.reset_index(inplace=True)"
   ]
  },
  {
   "cell_type": "markdown",
   "metadata": {},
   "source": [
    "## Split the data"
   ]
  },
  {
   "cell_type": "code",
   "execution_count": null,
   "metadata": {},
   "outputs": [],
   "source": [
    "features = ['temp_out', 'hum_out', 'air_out', 'hum_in', 'air_in', 'temp_in', 'day sin', 'day cos', 'hour sin', 'hour cos', 'minute sin', 'minute cos']\n",
    "column_indices = {name: i for i, name in enumerate(features)}\n",
    "\n",
    "n = len(train_final)\n",
    "train_df = train_final[0:int(n*0.7)].copy()[features]\n",
    "val_df = train_final[int(n*0.7):int(n*0.9)].copy()[features]\n",
    "test_df = train_final[int(n*0.9):].copy()[features]\n",
    "\n",
    "num_features = len(features)"
   ]
  },
  {
   "cell_type": "markdown",
   "metadata": {},
   "source": [
    "## Normalize the data"
   ]
  },
  {
   "cell_type": "code",
   "execution_count": null,
   "metadata": {},
   "outputs": [],
   "source": [
    "train_mean = train_df[cols].mean()\n",
    "train_std = train_df[cols].std()\n",
    "\n",
    "train_df.loc[:, cols] = (train_df[cols] - train_mean) / train_std\n",
    "val_df.loc[:, cols] = (val_df[cols] - train_mean) / train_std\n",
    "test_df.loc[:, cols] = (test_df[cols] - train_mean) / train_std"
   ]
  },
  {
   "cell_type": "code",
   "execution_count": null,
   "metadata": {},
   "outputs": [],
   "source": [
    "df_std = (train_final[cols] - train_mean) / train_std\n",
    "df_std = df_std.melt(var_name='Column', value_name='Normalized')\n",
    "plt.figure(figsize=(12, 6))\n",
    "ax = sns.violinplot(x='Column', y='Normalized', data=df_std)\n",
    "_ = ax.set_xticklabels(train_final[cols].keys())"
   ]
  },
  {
   "cell_type": "markdown",
   "metadata": {},
   "source": [
    "## Data Window"
   ]
  },
  {
   "cell_type": "code",
   "execution_count": null,
   "metadata": {},
   "outputs": [],
   "source": [
    "class WindowGenerator():\n",
    "    def __init__(self, input_width, label_width, shift,\n",
    "               train_df=train_df, val_df=val_df, test_df=test_df,\n",
    "               label_columns=None):\n",
    "        # Store the raw data.\n",
    "        self.train_df = train_df\n",
    "        self.val_df = val_df\n",
    "        self.test_df = test_df\n",
    "\n",
    "        # Work out the label column indices.\n",
    "        self.label_columns = label_columns\n",
    "        if label_columns is not None:\n",
    "            self.label_columns_indices = {name: i for i, name in enumerate(label_columns)}\n",
    "        self.column_indices = {name: i for i, name in enumerate(train_df.columns)}\n",
    "\n",
    "        # Work out the window parameters.\n",
    "        self.input_width = input_width\n",
    "        self.label_width = label_width\n",
    "        self.shift = shift\n",
    "\n",
    "        self.total_window_size = input_width + shift\n",
    "\n",
    "        self.input_slice = slice(0, input_width)\n",
    "        self.input_indices = np.arange(self.total_window_size)[self.input_slice]\n",
    "\n",
    "        self.label_start = self.total_window_size - self.label_width\n",
    "        self.labels_slice = slice(self.label_start, None)\n",
    "        self.label_indices = np.arange(self.total_window_size)[self.labels_slice]\n",
    "        \n",
    "    def split_window(self, features):\n",
    "        inputs = features[:, self.input_slice, :]\n",
    "        labels = features[:, self.labels_slice, :]\n",
    "        if self.label_columns is not None:\n",
    "            labels = tf.stack(\n",
    "                [labels[:, :, self.column_indices[name]] for name in self.label_columns],\n",
    "                axis=-1)\n",
    "\n",
    "        # Slicing doesn't preserve static shape information, so set the shapes\n",
    "        # manually. This way the `tf.data.Datasets` are easier to inspect.\n",
    "        inputs.set_shape([None, self.input_width, None])\n",
    "        labels.set_shape([None, self.label_width, None])\n",
    "\n",
    "        return inputs, labels\n",
    "    \n",
    "    def make_dataset(self, data):\n",
    "        data = np.array(data, dtype=np.float32)\n",
    "        ds = tf.keras.preprocessing.timeseries_dataset_from_array(\n",
    "            data=data,\n",
    "            targets=None,\n",
    "            sequence_length=self.total_window_size,\n",
    "            sequence_stride=1,\n",
    "            shuffle=True,\n",
    "            batch_size=32,)\n",
    "\n",
    "        ds = ds.map(self.split_window)\n",
    "\n",
    "        return ds\n",
    "    \n",
    "    def plot(self, model=None, plot_col='temp_out', max_subplots=3):\n",
    "        inputs, labels = self.example\n",
    "        plt.figure(figsize=(12, 8))\n",
    "        plot_col_index = self.column_indices[plot_col]\n",
    "        max_n = min(max_subplots, len(inputs))\n",
    "        for n in range(max_n):\n",
    "            plt.subplot(3, 1, n+1)\n",
    "            plt.ylabel(f'{plot_col} [normed]')\n",
    "            plt.plot(self.input_indices, inputs[n, :, plot_col_index],\n",
    "                     label='Inputs', marker='.', zorder=-10)\n",
    "\n",
    "            if self.label_columns:\n",
    "                label_col_index = self.label_columns_indices.get(plot_col, None)\n",
    "            else:\n",
    "                label_col_index = plot_col_index\n",
    "\n",
    "            if label_col_index is None:\n",
    "                continue\n",
    "\n",
    "            plt.scatter(self.label_indices, labels[n, :, label_col_index], \n",
    "                        edgecolors='k', label='Labels', c='#2ca02c', s=64)\n",
    "            if model is not None:\n",
    "                predictions = model(inputs)\n",
    "                plt.scatter(self.label_indices, predictions[n, :, label_col_index],\n",
    "                          marker='X', edgecolors='k', label='Predictions',\n",
    "                          c='#ff7f0e', s=64)\n",
    "\n",
    "            if n == 0:\n",
    "                plt.legend()\n",
    "\n",
    "        plt.xlabel('Time [h]')\n",
    "        \n",
    "    @property\n",
    "    def train(self):\n",
    "        return self.make_dataset(self.train_df)\n",
    "\n",
    "    @property\n",
    "    def val(self):\n",
    "        return self.make_dataset(self.val_df)\n",
    "\n",
    "    @property\n",
    "    def test(self):\n",
    "        return self.make_dataset(self.test_df)\n",
    "\n",
    "    @property\n",
    "    def example(self):\n",
    "        \"\"\"Get and cache an example batch of `inputs, labels` for plotting.\"\"\"\n",
    "        result = getattr(self, '_example', None)\n",
    "        if result is None:\n",
    "            # No example batch was found, so get one from the `.train` dataset\n",
    "            result = next(iter(self.train))\n",
    "            # And cache it for next time\n",
    "            self._example = result\n",
    "        return result\n",
    "\n",
    "    def __repr__(self):\n",
    "        return '\\n'.join([\n",
    "            f'Total window size: {self.total_window_size}',\n",
    "            f'Input indices: {self.input_indices}',\n",
    "            f'Label indices: {self.label_indices}',\n",
    "            f'Label column name(s): {self.label_columns}'])"
   ]
  },
  {
   "cell_type": "code",
   "execution_count": null,
   "metadata": {},
   "outputs": [],
   "source": [
    "OUT_STEPS = 119\n",
    "multi_window = WindowGenerator(input_width=1,\n",
    "                               label_width=OUT_STEPS,\n",
    "                               shift=OUT_STEPS, \n",
    "                               train_df=train_df[cols], \n",
    "                               val_df=val_df[cols], \n",
    "                               test_df=test_df[cols])\n",
    "\n",
    "multi_window.plot()\n",
    "multi_window"
   ]
  },
  {
   "cell_type": "markdown",
   "metadata": {},
   "source": [
    "## AutoRegressive Model"
   ]
  },
  {
   "cell_type": "code",
   "execution_count": null,
   "metadata": {},
   "outputs": [],
   "source": [
    "MAX_EPOCHS = 20\n",
    "\n",
    "def compile_and_fit(model, window, patience=2):\n",
    "    early_stopping = tf.keras.callbacks.EarlyStopping(monitor='val_loss', \n",
    "                                                      patience=patience, \n",
    "                                                      mode='min')\n",
    "\n",
    "    model.compile(loss=tf.losses.MeanSquaredError(),\n",
    "                  optimizer=tf.optimizers.Adam(),\n",
    "                  metrics=[tf.metrics.MeanAbsoluteError()])\n",
    "\n",
    "    history = model.fit(window.train, epochs=MAX_EPOCHS,\n",
    "                        validation_data=window.val,\n",
    "                        callbacks=[early_stopping])\n",
    "    return history"
   ]
  },
  {
   "cell_type": "code",
   "execution_count": null,
   "metadata": {},
   "outputs": [],
   "source": [
    "class FeedBack(tf.keras.Model):\n",
    "    def __init__(self, units, out_steps):\n",
    "        super().__init__()\n",
    "        self.out_steps = out_steps # 119\n",
    "        self.units = units\n",
    "        self.lstm_cell = tf.keras.layers.LSTMCell(units)\n",
    "        # Also wrap the LSTMCell in an RNN to simplify the `warmup` method.\n",
    "        self.lstm_rnn = tf.keras.layers.RNN(self.lstm_cell, return_state=True)\n",
    "        self.dense = tf.keras.layers.Dense(5)\n",
    "        \n",
    "    def warmup(self, inputs):\n",
    "        # inputs.shape => (batch, time, features)\n",
    "        # x.shape => (batch, lstm_units)\n",
    "        x, *state = self.lstm_rnn(inputs)\n",
    "\n",
    "        # predictions.shape => (batch, features)\n",
    "        prediction = self.dense(x)\n",
    "        return prediction, state\n",
    "    \n",
    "    def call(self, inputs, training=None):\n",
    "        # Use a TensorArray to capture dynamically unrolled outputs.\n",
    "        predictions = []\n",
    "        # Initialize the lstm state\n",
    "        prediction, state = self.warmup(inputs)\n",
    "\n",
    "        # Insert the first prediction\n",
    "        predictions.append(prediction)\n",
    "\n",
    "        # Run the rest of the prediction steps\n",
    "        for n in range(1, self.out_steps):\n",
    "            # Use the last prediction as input.\n",
    "            x = prediction\n",
    "            # Execute one lstm step.\n",
    "            x, state = self.lstm_cell(x, states=state,\n",
    "                                      training=training)\n",
    "            # Convert the lstm output to a prediction.\n",
    "            prediction = self.dense(x)\n",
    "            # Add the prediction to the output\n",
    "            predictions.append(prediction)\n",
    "\n",
    "        # predictions.shape => (time, batch, features)\n",
    "        predictions = tf.stack(predictions)\n",
    "        # predictions.shape => (batch, time, features)\n",
    "        predictions = tf.transpose(predictions, [1, 0, 2])\n",
    "        return predictions"
   ]
  },
  {
   "cell_type": "code",
   "execution_count": null,
   "metadata": {},
   "outputs": [],
   "source": [
    "feedback_model = FeedBack(units=32, out_steps=OUT_STEPS)\n",
    "\n",
    "history = compile_and_fit(feedback_model, multi_window)\n",
    "\n",
    "multi_val_performance = {}\n",
    "multi_performance = {}\n",
    "multi_val_performance['AR LSTM'] = feedback_model.evaluate(multi_window.val)\n",
    "multi_performance['AR LSTM'] = feedback_model.evaluate(multi_window.test, verbose=0)\n",
    "multi_window.plot(feedback_model)"
   ]
  },
  {
   "cell_type": "markdown",
   "metadata": {},
   "source": [
    "# Modeling"
   ]
  },
  {
   "cell_type": "code",
   "execution_count": 25,
   "metadata": {},
   "outputs": [],
   "source": [
    "data = matrix.copy()"
   ]
  },
  {
   "cell_type": "code",
   "execution_count": 26,
   "metadata": {},
   "outputs": [],
   "source": [
    "features_to_drop = ['timestamp', 'year', 'second', 'time', 'temp_in']\n",
    "\n",
    "num = int(len(train_final)*0.8)\n",
    "X_train = data.iloc[:num].drop(features_to_drop, axis=1)\n",
    "y_train = data.iloc[:num]['temp_in'] - data.iloc[:num]['temp_out']\n",
    "X_val = data.iloc[num:len(train_final)].drop(features_to_drop, axis=1)\n",
    "y_val = data.iloc[num:len(train_final)]['temp_in'] - data.iloc[num:len(train_final)]['temp_out']\n",
    "X_test = data.loc[data.time >= '2020-02-01'].drop(features_to_drop, axis=1)"
   ]
  },
  {
   "cell_type": "markdown",
   "metadata": {},
   "source": [
    "## XGBoost"
   ]
  },
  {
   "cell_type": "code",
   "execution_count": 27,
   "metadata": {},
   "outputs": [],
   "source": [
    "import xgboost as xgb\n",
    "from xgboost import XGBRegressor\n",
    "from xgboost import plot_importance"
   ]
  },
  {
   "cell_type": "code",
   "execution_count": 45,
   "metadata": {},
   "outputs": [
    {
     "name": "stdout",
     "output_type": "stream",
     "text": [
      "[0]\tvalidation_0-rmse:0.49108\tvalidation_1-rmse:0.48794\n",
      "Multiple eval metrics have been passed: 'validation_1-rmse' will be used for early stopping.\n",
      "\n",
      "Will train until validation_1-rmse hasn't improved in 1000 rounds.\n",
      "[500]\tvalidation_0-rmse:0.31425\tvalidation_1-rmse:0.32341\n",
      "[1000]\tvalidation_0-rmse:0.20679\tvalidation_1-rmse:0.27838\n",
      "[1500]\tvalidation_0-rmse:0.14211\tvalidation_1-rmse:0.28397\n",
      "[2000]\tvalidation_0-rmse:0.10374\tvalidation_1-rmse:0.29971\n",
      "Stopping. Best iteration:\n",
      "[1114]\tvalidation_0-rmse:0.18897\tvalidation_1-rmse:0.27699\n",
      "\n",
      "CPU times: user 10min 53s, sys: 3.84 s, total: 10min 57s\n",
      "Wall time: 3min 4s\n"
     ]
    },
    {
     "data": {
      "text/plain": [
       "XGBRegressor(base_score=0.5, booster='gbtree', colsample_bylevel=1,\n",
       "             colsample_bynode=1, colsample_bytree=0.5, eta=0.001, gamma=0,\n",
       "             gpu_id=-1, importance_type='gain', interaction_constraints='',\n",
       "             learning_rate=0.00100000005, max_delta_step=0, max_depth=8,\n",
       "             min_child_weight=5, missing=nan, monotone_constraints='()',\n",
       "             n_estimators=50000, n_jobs=0, num_parallel_tree=1,\n",
       "             random_state=2020, reg_alpha=0, reg_lambda=1, scale_pos_weight=1,\n",
       "             seed=2020, subsample=0.5, tree_method='exact',\n",
       "             validate_parameters=1, verbosity=None)"
      ]
     },
     "execution_count": 45,
     "metadata": {},
     "output_type": "execute_result"
    }
   ],
   "source": [
    "%%time\n",
    "\n",
    "model = XGBRegressor(max_depth=8,\n",
    "                     n_estimators=50000,\n",
    "                     min_child_weight=5, \n",
    "                     colsample_bytree=0.5, \n",
    "                     subsample=0.5, \n",
    "                     eta=0.001,\n",
    "                     seed=2020)\n",
    "model.fit(X_train, \n",
    "          y_train, \n",
    "          eval_metric='rmse', \n",
    "          eval_set=[(X_train, y_train), (X_val, y_val)], \n",
    "          verbose=500, \n",
    "          early_stopping_rounds=1000)"
   ]
  },
  {
   "cell_type": "code",
   "execution_count": 46,
   "metadata": {},
   "outputs": [],
   "source": [
    "pred_test_xgb = model.predict(X_test, ntree_limit=model.best_ntree_limit)\n",
    "submission = pd.DataFrame({'time': test_final.timestamp, \n",
    "                           'temperature': test_final.temp_out + pred_test_xgb})\n",
    "submission.fillna(method='bfill', inplace=True)\n",
    "submission.to_csv('submissions/final/xgb_submission.csv', index=False)"
   ]
  },
  {
   "cell_type": "code",
   "execution_count": null,
   "metadata": {},
   "outputs": [],
   "source": []
  }
 ],
 "metadata": {
  "kernelspec": {
   "display_name": "Python dc",
   "language": "python",
   "name": "dc"
  },
  "language_info": {
   "codemirror_mode": {
    "name": "ipython",
    "version": 3
   },
   "file_extension": ".py",
   "mimetype": "text/x-python",
   "name": "python",
   "nbconvert_exporter": "python",
   "pygments_lexer": "ipython3",
   "version": "3.7.8"
  },
  "toc-autonumbering": true,
  "toc-showcode": false,
  "toc-showmarkdowntxt": false
 },
 "nbformat": 4,
 "nbformat_minor": 4
}
